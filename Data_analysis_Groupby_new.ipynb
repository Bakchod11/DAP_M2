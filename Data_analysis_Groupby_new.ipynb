{
  "nbformat": 4,
  "nbformat_minor": 0,
  "metadata": {
    "colab": {
      "provenance": []
    },
    "kernelspec": {
      "name": "python3",
      "display_name": "Python 3"
    },
    "language_info": {
      "name": "python"
    }
  },
  "cells": [
    {
      "cell_type": "code",
      "execution_count": null,
      "metadata": {
        "id": "WIxY75oqwX3g",
        "colab": {
          "base_uri": "https://localhost:8080/",
          "height": 541
        },
        "outputId": "f2707dca-4e4a-48bf-9640-9c3a7996b393"
      },
      "outputs": [
        {
          "output_type": "display_data",
          "data": {
            "text/plain": [
              "<IPython.core.display.HTML object>"
            ],
            "text/html": [
              "\n",
              "     <input type=\"file\" id=\"files-1c554c67-434d-4a86-a7c5-ae45d84fa6c7\" name=\"files[]\" multiple disabled\n",
              "        style=\"border:none\" />\n",
              "     <output id=\"result-1c554c67-434d-4a86-a7c5-ae45d84fa6c7\">\n",
              "      Upload widget is only available when the cell has been executed in the\n",
              "      current browser session. Please rerun this cell to enable.\n",
              "      </output>\n",
              "      <script>// Copyright 2017 Google LLC\n",
              "//\n",
              "// Licensed under the Apache License, Version 2.0 (the \"License\");\n",
              "// you may not use this file except in compliance with the License.\n",
              "// You may obtain a copy of the License at\n",
              "//\n",
              "//      http://www.apache.org/licenses/LICENSE-2.0\n",
              "//\n",
              "// Unless required by applicable law or agreed to in writing, software\n",
              "// distributed under the License is distributed on an \"AS IS\" BASIS,\n",
              "// WITHOUT WARRANTIES OR CONDITIONS OF ANY KIND, either express or implied.\n",
              "// See the License for the specific language governing permissions and\n",
              "// limitations under the License.\n",
              "\n",
              "/**\n",
              " * @fileoverview Helpers for google.colab Python module.\n",
              " */\n",
              "(function(scope) {\n",
              "function span(text, styleAttributes = {}) {\n",
              "  const element = document.createElement('span');\n",
              "  element.textContent = text;\n",
              "  for (const key of Object.keys(styleAttributes)) {\n",
              "    element.style[key] = styleAttributes[key];\n",
              "  }\n",
              "  return element;\n",
              "}\n",
              "\n",
              "// Max number of bytes which will be uploaded at a time.\n",
              "const MAX_PAYLOAD_SIZE = 100 * 1024;\n",
              "\n",
              "function _uploadFiles(inputId, outputId) {\n",
              "  const steps = uploadFilesStep(inputId, outputId);\n",
              "  const outputElement = document.getElementById(outputId);\n",
              "  // Cache steps on the outputElement to make it available for the next call\n",
              "  // to uploadFilesContinue from Python.\n",
              "  outputElement.steps = steps;\n",
              "\n",
              "  return _uploadFilesContinue(outputId);\n",
              "}\n",
              "\n",
              "// This is roughly an async generator (not supported in the browser yet),\n",
              "// where there are multiple asynchronous steps and the Python side is going\n",
              "// to poll for completion of each step.\n",
              "// This uses a Promise to block the python side on completion of each step,\n",
              "// then passes the result of the previous step as the input to the next step.\n",
              "function _uploadFilesContinue(outputId) {\n",
              "  const outputElement = document.getElementById(outputId);\n",
              "  const steps = outputElement.steps;\n",
              "\n",
              "  const next = steps.next(outputElement.lastPromiseValue);\n",
              "  return Promise.resolve(next.value.promise).then((value) => {\n",
              "    // Cache the last promise value to make it available to the next\n",
              "    // step of the generator.\n",
              "    outputElement.lastPromiseValue = value;\n",
              "    return next.value.response;\n",
              "  });\n",
              "}\n",
              "\n",
              "/**\n",
              " * Generator function which is called between each async step of the upload\n",
              " * process.\n",
              " * @param {string} inputId Element ID of the input file picker element.\n",
              " * @param {string} outputId Element ID of the output display.\n",
              " * @return {!Iterable<!Object>} Iterable of next steps.\n",
              " */\n",
              "function* uploadFilesStep(inputId, outputId) {\n",
              "  const inputElement = document.getElementById(inputId);\n",
              "  inputElement.disabled = false;\n",
              "\n",
              "  const outputElement = document.getElementById(outputId);\n",
              "  outputElement.innerHTML = '';\n",
              "\n",
              "  const pickedPromise = new Promise((resolve) => {\n",
              "    inputElement.addEventListener('change', (e) => {\n",
              "      resolve(e.target.files);\n",
              "    });\n",
              "  });\n",
              "\n",
              "  const cancel = document.createElement('button');\n",
              "  inputElement.parentElement.appendChild(cancel);\n",
              "  cancel.textContent = 'Cancel upload';\n",
              "  const cancelPromise = new Promise((resolve) => {\n",
              "    cancel.onclick = () => {\n",
              "      resolve(null);\n",
              "    };\n",
              "  });\n",
              "\n",
              "  // Wait for the user to pick the files.\n",
              "  const files = yield {\n",
              "    promise: Promise.race([pickedPromise, cancelPromise]),\n",
              "    response: {\n",
              "      action: 'starting',\n",
              "    }\n",
              "  };\n",
              "\n",
              "  cancel.remove();\n",
              "\n",
              "  // Disable the input element since further picks are not allowed.\n",
              "  inputElement.disabled = true;\n",
              "\n",
              "  if (!files) {\n",
              "    return {\n",
              "      response: {\n",
              "        action: 'complete',\n",
              "      }\n",
              "    };\n",
              "  }\n",
              "\n",
              "  for (const file of files) {\n",
              "    const li = document.createElement('li');\n",
              "    li.append(span(file.name, {fontWeight: 'bold'}));\n",
              "    li.append(span(\n",
              "        `(${file.type || 'n/a'}) - ${file.size} bytes, ` +\n",
              "        `last modified: ${\n",
              "            file.lastModifiedDate ? file.lastModifiedDate.toLocaleDateString() :\n",
              "                                    'n/a'} - `));\n",
              "    const percent = span('0% done');\n",
              "    li.appendChild(percent);\n",
              "\n",
              "    outputElement.appendChild(li);\n",
              "\n",
              "    const fileDataPromise = new Promise((resolve) => {\n",
              "      const reader = new FileReader();\n",
              "      reader.onload = (e) => {\n",
              "        resolve(e.target.result);\n",
              "      };\n",
              "      reader.readAsArrayBuffer(file);\n",
              "    });\n",
              "    // Wait for the data to be ready.\n",
              "    let fileData = yield {\n",
              "      promise: fileDataPromise,\n",
              "      response: {\n",
              "        action: 'continue',\n",
              "      }\n",
              "    };\n",
              "\n",
              "    // Use a chunked sending to avoid message size limits. See b/62115660.\n",
              "    let position = 0;\n",
              "    do {\n",
              "      const length = Math.min(fileData.byteLength - position, MAX_PAYLOAD_SIZE);\n",
              "      const chunk = new Uint8Array(fileData, position, length);\n",
              "      position += length;\n",
              "\n",
              "      const base64 = btoa(String.fromCharCode.apply(null, chunk));\n",
              "      yield {\n",
              "        response: {\n",
              "          action: 'append',\n",
              "          file: file.name,\n",
              "          data: base64,\n",
              "        },\n",
              "      };\n",
              "\n",
              "      let percentDone = fileData.byteLength === 0 ?\n",
              "          100 :\n",
              "          Math.round((position / fileData.byteLength) * 100);\n",
              "      percent.textContent = `${percentDone}% done`;\n",
              "\n",
              "    } while (position < fileData.byteLength);\n",
              "  }\n",
              "\n",
              "  // All done.\n",
              "  yield {\n",
              "    response: {\n",
              "      action: 'complete',\n",
              "    }\n",
              "  };\n",
              "}\n",
              "\n",
              "scope.google = scope.google || {};\n",
              "scope.google.colab = scope.google.colab || {};\n",
              "scope.google.colab._files = {\n",
              "  _uploadFiles,\n",
              "  _uploadFilesContinue,\n",
              "};\n",
              "})(self);\n",
              "</script> "
            ]
          },
          "metadata": {}
        },
        {
          "output_type": "stream",
          "name": "stdout",
          "text": [
            "Saving Master_data_excel.xlsx to Master_data_excel.xlsx\n"
          ]
        },
        {
          "output_type": "execute_result",
          "data": {
            "text/plain": [
              "      id               name    city        dept         designation  age  \\\n",
              "0   A001  HARTEJ SINGH ASSI  Mumbai       sales             manager   23   \n",
              "1   A002  BHAVESH BALDANIYA   Delhi  technology           developer   35   \n",
              "2   A003       YASH BAVISHI   Delhi  production  quality controller   22   \n",
              "3   A004     SHREEKARA BHAT  Indore       sales       assit manager   34   \n",
              "4   A005        KUNAL BHATT  Mumbai  technology             IT engg   31   \n",
              "..   ...                ...     ...         ...                 ...  ...   \n",
              "85  L039      SOHAM VASUDEO  Mumbai  technology             IT engg   36   \n",
              "86  L040      RITIKA SHETTY  Mumbai   marketing       brand manager   37   \n",
              "87  L041     RUSHABH JADHAV    Pune  production   product developer   49   \n",
              "88  L042     SAMIKSHA SARDA    Pune       sales             manager   33   \n",
              "89  L043     YASH CHAUDHARI  Indore       sales       assit manager   24   \n",
              "\n",
              "         sport  sport score  \n",
              "0      cricket           56  \n",
              "1       hockey           57  \n",
              "2   volleyball           23  \n",
              "3      cricket           44  \n",
              "4      cricket           56  \n",
              "..         ...          ...  \n",
              "85  volleyball           47  \n",
              "86     cricket           56  \n",
              "87     cricket           68  \n",
              "88     cricket           79  \n",
              "89      hockey           90  \n",
              "\n",
              "[90 rows x 8 columns]"
            ],
            "text/html": [
              "\n",
              "  <div id=\"df-db6f1e70-a0ba-4158-be33-e7026d370b87\">\n",
              "    <div class=\"colab-df-container\">\n",
              "      <div>\n",
              "<style scoped>\n",
              "    .dataframe tbody tr th:only-of-type {\n",
              "        vertical-align: middle;\n",
              "    }\n",
              "\n",
              "    .dataframe tbody tr th {\n",
              "        vertical-align: top;\n",
              "    }\n",
              "\n",
              "    .dataframe thead th {\n",
              "        text-align: right;\n",
              "    }\n",
              "</style>\n",
              "<table border=\"1\" class=\"dataframe\">\n",
              "  <thead>\n",
              "    <tr style=\"text-align: right;\">\n",
              "      <th></th>\n",
              "      <th>id</th>\n",
              "      <th>name</th>\n",
              "      <th>city</th>\n",
              "      <th>dept</th>\n",
              "      <th>designation</th>\n",
              "      <th>age</th>\n",
              "      <th>sport</th>\n",
              "      <th>sport score</th>\n",
              "    </tr>\n",
              "  </thead>\n",
              "  <tbody>\n",
              "    <tr>\n",
              "      <th>0</th>\n",
              "      <td>A001</td>\n",
              "      <td>HARTEJ SINGH ASSI</td>\n",
              "      <td>Mumbai</td>\n",
              "      <td>sales</td>\n",
              "      <td>manager</td>\n",
              "      <td>23</td>\n",
              "      <td>cricket</td>\n",
              "      <td>56</td>\n",
              "    </tr>\n",
              "    <tr>\n",
              "      <th>1</th>\n",
              "      <td>A002</td>\n",
              "      <td>BHAVESH BALDANIYA</td>\n",
              "      <td>Delhi</td>\n",
              "      <td>technology</td>\n",
              "      <td>developer</td>\n",
              "      <td>35</td>\n",
              "      <td>hockey</td>\n",
              "      <td>57</td>\n",
              "    </tr>\n",
              "    <tr>\n",
              "      <th>2</th>\n",
              "      <td>A003</td>\n",
              "      <td>YASH BAVISHI</td>\n",
              "      <td>Delhi</td>\n",
              "      <td>production</td>\n",
              "      <td>quality controller</td>\n",
              "      <td>22</td>\n",
              "      <td>volleyball</td>\n",
              "      <td>23</td>\n",
              "    </tr>\n",
              "    <tr>\n",
              "      <th>3</th>\n",
              "      <td>A004</td>\n",
              "      <td>SHREEKARA BHAT</td>\n",
              "      <td>Indore</td>\n",
              "      <td>sales</td>\n",
              "      <td>assit manager</td>\n",
              "      <td>34</td>\n",
              "      <td>cricket</td>\n",
              "      <td>44</td>\n",
              "    </tr>\n",
              "    <tr>\n",
              "      <th>4</th>\n",
              "      <td>A005</td>\n",
              "      <td>KUNAL BHATT</td>\n",
              "      <td>Mumbai</td>\n",
              "      <td>technology</td>\n",
              "      <td>IT engg</td>\n",
              "      <td>31</td>\n",
              "      <td>cricket</td>\n",
              "      <td>56</td>\n",
              "    </tr>\n",
              "    <tr>\n",
              "      <th>...</th>\n",
              "      <td>...</td>\n",
              "      <td>...</td>\n",
              "      <td>...</td>\n",
              "      <td>...</td>\n",
              "      <td>...</td>\n",
              "      <td>...</td>\n",
              "      <td>...</td>\n",
              "      <td>...</td>\n",
              "    </tr>\n",
              "    <tr>\n",
              "      <th>85</th>\n",
              "      <td>L039</td>\n",
              "      <td>SOHAM VASUDEO</td>\n",
              "      <td>Mumbai</td>\n",
              "      <td>technology</td>\n",
              "      <td>IT engg</td>\n",
              "      <td>36</td>\n",
              "      <td>volleyball</td>\n",
              "      <td>47</td>\n",
              "    </tr>\n",
              "    <tr>\n",
              "      <th>86</th>\n",
              "      <td>L040</td>\n",
              "      <td>RITIKA SHETTY</td>\n",
              "      <td>Mumbai</td>\n",
              "      <td>marketing</td>\n",
              "      <td>brand manager</td>\n",
              "      <td>37</td>\n",
              "      <td>cricket</td>\n",
              "      <td>56</td>\n",
              "    </tr>\n",
              "    <tr>\n",
              "      <th>87</th>\n",
              "      <td>L041</td>\n",
              "      <td>RUSHABH JADHAV</td>\n",
              "      <td>Pune</td>\n",
              "      <td>production</td>\n",
              "      <td>product developer</td>\n",
              "      <td>49</td>\n",
              "      <td>cricket</td>\n",
              "      <td>68</td>\n",
              "    </tr>\n",
              "    <tr>\n",
              "      <th>88</th>\n",
              "      <td>L042</td>\n",
              "      <td>SAMIKSHA SARDA</td>\n",
              "      <td>Pune</td>\n",
              "      <td>sales</td>\n",
              "      <td>manager</td>\n",
              "      <td>33</td>\n",
              "      <td>cricket</td>\n",
              "      <td>79</td>\n",
              "    </tr>\n",
              "    <tr>\n",
              "      <th>89</th>\n",
              "      <td>L043</td>\n",
              "      <td>YASH CHAUDHARI</td>\n",
              "      <td>Indore</td>\n",
              "      <td>sales</td>\n",
              "      <td>assit manager</td>\n",
              "      <td>24</td>\n",
              "      <td>hockey</td>\n",
              "      <td>90</td>\n",
              "    </tr>\n",
              "  </tbody>\n",
              "</table>\n",
              "<p>90 rows × 8 columns</p>\n",
              "</div>\n",
              "      <button class=\"colab-df-convert\" onclick=\"convertToInteractive('df-db6f1e70-a0ba-4158-be33-e7026d370b87')\"\n",
              "              title=\"Convert this dataframe to an interactive table.\"\n",
              "              style=\"display:none;\">\n",
              "        \n",
              "  <svg xmlns=\"http://www.w3.org/2000/svg\" height=\"24px\"viewBox=\"0 0 24 24\"\n",
              "       width=\"24px\">\n",
              "    <path d=\"M0 0h24v24H0V0z\" fill=\"none\"/>\n",
              "    <path d=\"M18.56 5.44l.94 2.06.94-2.06 2.06-.94-2.06-.94-.94-2.06-.94 2.06-2.06.94zm-11 1L8.5 8.5l.94-2.06 2.06-.94-2.06-.94L8.5 2.5l-.94 2.06-2.06.94zm10 10l.94 2.06.94-2.06 2.06-.94-2.06-.94-.94-2.06-.94 2.06-2.06.94z\"/><path d=\"M17.41 7.96l-1.37-1.37c-.4-.4-.92-.59-1.43-.59-.52 0-1.04.2-1.43.59L10.3 9.45l-7.72 7.72c-.78.78-.78 2.05 0 2.83L4 21.41c.39.39.9.59 1.41.59.51 0 1.02-.2 1.41-.59l7.78-7.78 2.81-2.81c.8-.78.8-2.07 0-2.86zM5.41 20L4 18.59l7.72-7.72 1.47 1.35L5.41 20z\"/>\n",
              "  </svg>\n",
              "      </button>\n",
              "      \n",
              "  <style>\n",
              "    .colab-df-container {\n",
              "      display:flex;\n",
              "      flex-wrap:wrap;\n",
              "      gap: 12px;\n",
              "    }\n",
              "\n",
              "    .colab-df-convert {\n",
              "      background-color: #E8F0FE;\n",
              "      border: none;\n",
              "      border-radius: 50%;\n",
              "      cursor: pointer;\n",
              "      display: none;\n",
              "      fill: #1967D2;\n",
              "      height: 32px;\n",
              "      padding: 0 0 0 0;\n",
              "      width: 32px;\n",
              "    }\n",
              "\n",
              "    .colab-df-convert:hover {\n",
              "      background-color: #E2EBFA;\n",
              "      box-shadow: 0px 1px 2px rgba(60, 64, 67, 0.3), 0px 1px 3px 1px rgba(60, 64, 67, 0.15);\n",
              "      fill: #174EA6;\n",
              "    }\n",
              "\n",
              "    [theme=dark] .colab-df-convert {\n",
              "      background-color: #3B4455;\n",
              "      fill: #D2E3FC;\n",
              "    }\n",
              "\n",
              "    [theme=dark] .colab-df-convert:hover {\n",
              "      background-color: #434B5C;\n",
              "      box-shadow: 0px 1px 3px 1px rgba(0, 0, 0, 0.15);\n",
              "      filter: drop-shadow(0px 1px 2px rgba(0, 0, 0, 0.3));\n",
              "      fill: #FFFFFF;\n",
              "    }\n",
              "  </style>\n",
              "\n",
              "      <script>\n",
              "        const buttonEl =\n",
              "          document.querySelector('#df-db6f1e70-a0ba-4158-be33-e7026d370b87 button.colab-df-convert');\n",
              "        buttonEl.style.display =\n",
              "          google.colab.kernel.accessAllowed ? 'block' : 'none';\n",
              "\n",
              "        async function convertToInteractive(key) {\n",
              "          const element = document.querySelector('#df-db6f1e70-a0ba-4158-be33-e7026d370b87');\n",
              "          const dataTable =\n",
              "            await google.colab.kernel.invokeFunction('convertToInteractive',\n",
              "                                                     [key], {});\n",
              "          if (!dataTable) return;\n",
              "\n",
              "          const docLinkHtml = 'Like what you see? Visit the ' +\n",
              "            '<a target=\"_blank\" href=https://colab.research.google.com/notebooks/data_table.ipynb>data table notebook</a>'\n",
              "            + ' to learn more about interactive tables.';\n",
              "          element.innerHTML = '';\n",
              "          dataTable['output_type'] = 'display_data';\n",
              "          await google.colab.output.renderOutput(dataTable, element);\n",
              "          const docLink = document.createElement('div');\n",
              "          docLink.innerHTML = docLinkHtml;\n",
              "          element.appendChild(docLink);\n",
              "        }\n",
              "      </script>\n",
              "    </div>\n",
              "  </div>\n",
              "  "
            ]
          },
          "metadata": {},
          "execution_count": 1
        }
      ],
      "source": [
        "from google.colab import files\n",
        "upload = files.upload()\n",
        "import io\n",
        "import pandas as pd\n",
        "df_excel = pd.read_excel(io.BytesIO(upload['Master_data_excel.xlsx']))\n",
        "df_excel"
      ]
    },
    {
      "cell_type": "markdown",
      "source": [
        "#Q1. What is the maximum score of an employee in each of the department?\n",
        "#Q2. What is name of the employee who's age is minimum in each of the cities?\n",
        "#Q3. Does all the departments have participation from employee age group between 20 to 30?\n",
        "#Q4. What is the average score of an employee in each department and city?\n",
        "#Q5. What is the designation of the yongest player who score highest in cricket \n"
      ],
      "metadata": {
        "id": "Wvy19XZuwrbS"
      }
    },
    {
      "cell_type": "code",
      "source": [],
      "metadata": {
        "id": "IfosLjCowtWp"
      },
      "execution_count": null,
      "outputs": []
    },
    {
      "cell_type": "code",
      "source": [
        "# Pandas groupby function to analyze the data\n",
        "df = df_excel.groupby(\"DEPT\")\n",
        "df\n",
        "\n",
        "# it creates number of groups by considereing distinct department name as key vale\n",
        "# and corresponding table for eack key (Name of the department)"
      ],
      "metadata": {
        "colab": {
          "base_uri": "https://localhost:8080/"
        },
        "id": "eU4FFkpJwyX4",
        "outputId": "8e67d224-b3e1-4e73-937c-174b952319f3"
      },
      "execution_count": null,
      "outputs": [
        {
          "output_type": "execute_result",
          "data": {
            "text/plain": [
              "<pandas.core.groupby.generic.DataFrameGroupBy object at 0x7f6ad2dd77f0>"
            ]
          },
          "metadata": {},
          "execution_count": 62
        }
      ]
    },
    {
      "cell_type": "code",
      "source": [
        "for department, dept_df in df:\n",
        "  print(department)\n",
        "  print(dept_df)"
      ],
      "metadata": {
        "id": "aR3Ms3v5e4H1"
      },
      "execution_count": null,
      "outputs": []
    },
    {
      "cell_type": "code",
      "source": [
        "df1 = df.get_group('sales')\n",
        "df1"
      ],
      "metadata": {
        "id": "zabePcOTw33R"
      },
      "execution_count": null,
      "outputs": []
    },
    {
      "cell_type": "code",
      "source": [
        "# Q1. What is the maximum sport score of an employee in each of the department?\n",
        "\n",
        "# How to extract single group from the groupby object - get_group('key value')\n",
        "\n",
        "#df1 = df.get_group('sales')\n",
        "\n",
        "#print(df1.max())\n",
        "\n",
        "#df.max()\n",
        "df.describe()\n",
        "df.count()"
      ],
      "metadata": {
        "id": "LdsF7XA4w6V5"
      },
      "execution_count": null,
      "outputs": []
    },
    {
      "cell_type": "markdown",
      "source": [
        "# Group by AGE"
      ],
      "metadata": {
        "id": "Larg64lfxP_v"
      }
    },
    {
      "cell_type": "code",
      "source": [
        "df1 = df_excel.groupby(\"AGE\")\n",
        "df1"
      ],
      "metadata": {
        "colab": {
          "base_uri": "https://localhost:8080/"
        },
        "id": "k55nac9sxAyU",
        "outputId": "e9d58fa0-38e7-42be-a242-c5c08f8179e4"
      },
      "execution_count": null,
      "outputs": [
        {
          "output_type": "execute_result",
          "data": {
            "text/plain": [
              "<pandas.core.groupby.generic.DataFrameGroupBy object at 0x7f6b002d1430>"
            ]
          },
          "metadata": {},
          "execution_count": 4
        }
      ]
    },
    {
      "cell_type": "code",
      "source": [
        "# Access and print all the subgroups using iteration\n",
        "for Age, Emp_age in df1:\n",
        "  print(Age)\n",
        "  print(Emp_age)"
      ],
      "metadata": {
        "id": "RmFBF1mFxWfe"
      },
      "execution_count": null,
      "outputs": []
    },
    {
      "cell_type": "code",
      "source": [
        "df1.count()"
      ],
      "metadata": {
        "id": "7DW_xFxjxou0"
      },
      "execution_count": null,
      "outputs": []
    },
    {
      "cell_type": "code",
      "source": [
        "# gives count of values in specifies group\n",
        "df1['AGE'].value_counts()\n",
        "#print(len(df1['AGE']))"
      ],
      "metadata": {
        "id": "aXXVZ7lCxiVa"
      },
      "execution_count": null,
      "outputs": []
    },
    {
      "cell_type": "code",
      "source": [
        "df2 = df1.get_group(22)\n",
        "df2\n",
        "print(df2.dtypes)"
      ],
      "metadata": {
        "id": "OisY5rV625gn"
      },
      "execution_count": null,
      "outputs": []
    },
    {
      "cell_type": "markdown",
      "source": [
        "# Group by multiple columns"
      ],
      "metadata": {
        "id": "mdO9UFYS31Iw"
      }
    },
    {
      "cell_type": "code",
      "source": [
        "df_m = df_excel.groupby(['LOCATION','DEPT']).count() # gives count in each location departments wise\n",
        "print(df_m)"
      ],
      "metadata": {
        "id": "mjO2zjWF30vh",
        "colab": {
          "base_uri": "https://localhost:8080/"
        },
        "outputId": "b0051f7e-f18d-4a7f-f1bd-09ced6d0dfec"
      },
      "execution_count": null,
      "outputs": [
        {
          "output_type": "stream",
          "name": "stdout",
          "text": [
            "                     ID  NAME  AGE  Sport score\n",
            "LOCATION DEPT                                  \n",
            "Delhi    marketing    2     2    2            2\n",
            "         production   4     4    4            4\n",
            "         sales        2     2    2            2\n",
            "         technology   5     5    5            5\n",
            "Hydrabad production   1     1    1            1\n",
            "         sales        1     1    1            1\n",
            "         technology   2     2    2            2\n",
            "Indore   marketing    5     5    5            5\n",
            "         production   2     2    2            2\n",
            "         sales        7     7    7            7\n",
            "         technology   3     3    3            3\n",
            "Mumbai   marketing    8     8    8            8\n",
            "         production   6     6    6            6\n",
            "         sales        5     5    5            5\n",
            "         technology   7     7    7            7\n",
            "Nagpur   marketing    5     5    5            5\n",
            "         production   2     2    2            2\n",
            "         sales        3     3    3            3\n",
            "         technology   2     2    2            2\n",
            "Pune     marketing    3     3    3            3\n",
            "         production   5     5    5            5\n",
            "         sales        7     7    7            7\n",
            "         technology   3     3    3            3\n"
          ]
        }
      ]
    },
    {
      "cell_type": "code",
      "source": [
        "#df_m = df_excel.groupby(['LOCATION','DEPT'])['LOCATION'].count() # gives count in each location department wise\n",
        "#print(df_m)\n",
        "\n",
        "#df_m.count()\n",
        "\n",
        "#df_m = df_excel.groupby(['LOCATION','DEPT'])['LOCATION'].count() # gives single coumn as count in each location department wise\n",
        "#print(df_m)\n",
        "\n",
        "#df_m = df_excel.groupby(['LOCATION','DEPT'])['LOCATION'].aggregate('count') # gives single column as count in each location department wise\n",
        "#print(df_m)\n",
        "\n",
        "#df_m = df_excel.groupby(['LOCATION','DEPT'])['DEPT'].aggregate('count') # gives single column as count in each location department wise (same as above)\n",
        "#print(df_m)\n",
        "\n",
        "df_m = df_excel.groupby('LOCATION').aggregate({'DEPT':'count','AGE':['min','max']}) # Gives count on department, location wise. Minimum and Maximum from each departmet Age wise\n",
        "print(df_m)\n",
        "\n",
        "#df_m = df_excel.groupby('DEPT').aggregate({'Sport score':['min','max']})  # it gives minimum and maximum score in the department.\n",
        "#print(df_m)"
      ],
      "metadata": {
        "id": "Fcev6dkA39di",
        "colab": {
          "base_uri": "https://localhost:8080/"
        },
        "outputId": "824461b9-1f01-4d59-b51d-d54785f4ceab"
      },
      "execution_count": null,
      "outputs": [
        {
          "output_type": "stream",
          "name": "stdout",
          "text": [
            "          DEPT AGE    \n",
            "         count min max\n",
            "LOCATION              \n",
            "Delhi       13  22  49\n",
            "Hydrabad     4  26  43\n",
            "Indore      17  24  49\n",
            "Mumbai      26  23  49\n",
            "Nagpur      12  23  41\n",
            "Pune        18  22  49\n"
          ]
        }
      ]
    },
    {
      "cell_type": "code",
      "source": [],
      "metadata": {
        "id": "kgKzN54-KyoO"
      },
      "execution_count": null,
      "outputs": []
    },
    {
      "cell_type": "markdown",
      "source": [
        "# Q1. What is the maximum score of an employee in each of the department?"
      ],
      "metadata": {
        "id": "J0i02Qvb4Cwo"
      }
    },
    {
      "cell_type": "code",
      "source": [
        "df_m = df_excel.groupby('DEPT').aggregate({'Sport score':['max'], 'AGE' : ['min']})  # it gives minimum and maximum score in the department.\n",
        "print(df_m)"
      ],
      "metadata": {
        "colab": {
          "base_uri": "https://localhost:8080/"
        },
        "id": "W2cFx0WP3_r4",
        "outputId": "f85989a9-74bb-4d25-dfb2-124aafe6eb99"
      },
      "execution_count": null,
      "outputs": [
        {
          "output_type": "stream",
          "name": "stdout",
          "text": [
            "           Sport score AGE\n",
            "                   max min\n",
            "DEPT                      \n",
            "marketing           89  24\n",
            "production          97  22\n",
            "sales               99  23\n",
            "technology          95  26\n"
          ]
        }
      ]
    },
    {
      "cell_type": "code",
      "source": [
        "# detail discussion on aggregate function\n",
        "# pandas aggregate functions perform a calculation on a set of values (grouped data) and return a single value. \n",
        "# An aggregate is a function where the values of multiple rows are grouped together to form a single summary value.\n",
        "# DataFrame.aggregate(), Series.aggregate(), DataFrameGroupBy.aggregate(). are the functions \n",
        "'''\n",
        "AGGREGATE FUNCTIONS\t  DESCRIPTION\n",
        "count()\t              Returns count for each group\n",
        "size()\t              Returns size for each group\n",
        "sum()\t                Returns total sum for each group\n",
        "mean()\t              Returns mean for each group. Same as average()\n",
        "average()\t            Returns average for each group. Same as mean()\n",
        "std()\t                Returns standard deviation for each group\n",
        "var()\t                Return var for each group\n",
        "sem()\t                Standard error of the mean of groups\n",
        "describe()\t          Returns different statistics\n",
        "min()\t                Returns minimum value for each group\n",
        "max()\t                Returns maximum value for each group\n",
        "first()\t              Returns first value for each group\n",
        "last()\t              Returns last value for each group\n",
        "nth()\t                Returns nth value for each group\n",
        "'''\n",
        "data = {\n",
        "  'RN':['A1','A2','A3'],\n",
        "  \"DAP\": [59, 70, 73],\n",
        "  \"WT\": [90, 78, 59]\n",
        "}\n",
        "\n",
        "df = pd.DataFrame(data)\n",
        "df\n",
        "\n",
        "#x = df.aggregate([\"sum\"])  # return a dataframe or series values\n",
        "#print(x)\n",
        "#print(type(x))\n",
        "\n",
        "#x = df.aggregate('count')  # gives count of values of all the columns by default\n",
        "#print(x)\n",
        "\n",
        "#x = df.aggregate({'DAP' : 'count'}) # gives count of all the values of specific column\n",
        "#print(x)\n",
        "\n",
        "#x = df.aggregate({'DAP' : [\"count\",'min', 'max'], 'WT' : ['min','max']}) # gives count of values of specific column and also min max of the same column\n",
        "#print(x)"
      ],
      "metadata": {
        "id": "w-utilV74Nlg"
      },
      "execution_count": null,
      "outputs": []
    },
    {
      "cell_type": "code",
      "source": [
        "# Examples of aggregate function.\n",
        "import pandas as pd\n",
        "technologies = {\n",
        "    'Courses':[\"Spark\",\"PySpark\",\"Hadoop\",\"Python\",\"PySpark\",\"Spark\"],\n",
        "    'Fee' :[20000,25000,26000,22000,24000,35000],\n",
        "    'Duration':['30day','40days','35days','40days','60days','60days'],\n",
        "    'Discount':[1000,2300,1200,2500,2000,2000]\n",
        "              }\n",
        "df = pd.DataFrame(technologies)\n",
        "print(df)"
      ],
      "metadata": {
        "colab": {
          "base_uri": "https://localhost:8080/"
        },
        "id": "KN74wi_pUnmF",
        "outputId": "f54f9370-afc2-4a5b-b592-eaaeb4284032"
      },
      "execution_count": null,
      "outputs": [
        {
          "output_type": "stream",
          "name": "stdout",
          "text": [
            "   Courses    Fee Duration  Discount\n",
            "0    Spark  20000    30day      1000\n",
            "1  PySpark  25000   40days      2300\n",
            "2   Hadoop  26000   35days      1200\n",
            "3   Python  22000   40days      2500\n",
            "4  PySpark  24000   60days      2000\n",
            "5    Spark  35000   60days      2000\n"
          ]
        }
      ]
    },
    {
      "cell_type": "code",
      "source": [
        "# Using Aggregate Function on DataFrame\n",
        "result = df[['Fee','Discount']].aggregate('sum')\n",
        "print(result)"
      ],
      "metadata": {
        "id": "5VB3Xx9EUuEM"
      },
      "execution_count": null,
      "outputs": []
    },
    {
      "cell_type": "code",
      "source": [
        "# Use DataFrame.group() Function\n",
        "result = df.groupby('Courses')['Fee','Discount'].aggregate('sum')\n",
        "print(result)"
      ],
      "metadata": {
        "id": "_Fs0ZEyiU3zk"
      },
      "execution_count": null,
      "outputs": []
    },
    {
      "cell_type": "code",
      "source": [
        "# Using groupby() and aggreaget()\n",
        "result = df.groupby('Courses').aggregate('sum')\n",
        "print(result)"
      ],
      "metadata": {
        "id": "jQxY8wwoVBs8"
      },
      "execution_count": null,
      "outputs": []
    },
    {
      "cell_type": "code",
      "source": [
        "result = df[['Courses','Fee','Duration']].groupby('Courses').aggregate('sum')\n",
        "print(result)"
      ],
      "metadata": {
        "colab": {
          "base_uri": "https://localhost:8080/"
        },
        "id": "OmDtkcKtVVh7",
        "outputId": "41046051-e8a8-4e0e-cfb4-713a2102fd61"
      },
      "execution_count": null,
      "outputs": [
        {
          "output_type": "stream",
          "name": "stdout",
          "text": [
            "           Fee\n",
            "Courses       \n",
            "Hadoop   26000\n",
            "PySpark  49000\n",
            "Python   22000\n",
            "Spark    55000\n"
          ]
        }
      ]
    },
    {
      "cell_type": "markdown",
      "source": [
        "# Q2: What is the name of employee who's age is minimum in each of the cities?"
      ],
      "metadata": {
        "id": "QTreL4Vs4Wsy"
      }
    },
    {
      "cell_type": "code",
      "source": [
        "df_m = df_excel.groupby('LOCATION')['AGE'].aggregate(['min'])  # it gives minimum and maximum score in the department.\n",
        "print(df_m)\n",
        "#df_m = df_excel.groupby(['LOCATION']).aggregate({'AGE':['min']})  # it gives minimum and maximum score in the department.\n",
        "#print(df_m)"
      ],
      "metadata": {
        "id": "puaFPdr54Zfg"
      },
      "execution_count": null,
      "outputs": []
    },
    {
      "cell_type": "code",
      "source": [
        "#df_m = df_excel.groupby(['CITY']).aggregate({'AGE':['min','max']})  # it gives minimum and maximum score in the department.\n",
        "#print(df_m)\n",
        "\n",
        "#print(type(df_m))\n",
        "#print(type(df_excel))\n",
        "\n",
        "#(df_excel.groupby(['CITY']).min().loc[df_excel['NAME']])"
      ],
      "metadata": {
        "id": "CXs_Z9iY4mHg"
      },
      "execution_count": null,
      "outputs": []
    },
    {
      "cell_type": "code",
      "source": [
        "from numpy.lib.index_tricks import index_exp\n",
        "df_m = df_excel.groupby(['CITY']).aggregate({'AGE':['min']})\n",
        "df_m\n",
        "#index = [0,1,2,3,4,5]\n",
        "#df_m.index = index\n",
        "#df_m\n"
      ],
      "metadata": {
        "colab": {
          "base_uri": "https://localhost:8080/",
          "height": 300
        },
        "id": "hKWGjeGX2AZr",
        "outputId": "1c881cb2-27f8-4121-989f-5ec09c59ec73"
      },
      "execution_count": null,
      "outputs": [
        {
          "output_type": "execute_result",
          "data": {
            "text/plain": [
              "         AGE\n",
              "         min\n",
              "CITY        \n",
              "Delhi     22\n",
              "Hydrabad  26\n",
              "Indore    24\n",
              "Mumbai    23\n",
              "Nagpur    23\n",
              "Pune      22"
            ],
            "text/html": [
              "\n",
              "  <div id=\"df-9d705aee-659a-4e04-ad8f-53992942a997\">\n",
              "    <div class=\"colab-df-container\">\n",
              "      <div>\n",
              "<style scoped>\n",
              "    .dataframe tbody tr th:only-of-type {\n",
              "        vertical-align: middle;\n",
              "    }\n",
              "\n",
              "    .dataframe tbody tr th {\n",
              "        vertical-align: top;\n",
              "    }\n",
              "\n",
              "    .dataframe thead tr th {\n",
              "        text-align: left;\n",
              "    }\n",
              "\n",
              "    .dataframe thead tr:last-of-type th {\n",
              "        text-align: right;\n",
              "    }\n",
              "</style>\n",
              "<table border=\"1\" class=\"dataframe\">\n",
              "  <thead>\n",
              "    <tr>\n",
              "      <th></th>\n",
              "      <th>AGE</th>\n",
              "    </tr>\n",
              "    <tr>\n",
              "      <th></th>\n",
              "      <th>min</th>\n",
              "    </tr>\n",
              "    <tr>\n",
              "      <th>CITY</th>\n",
              "      <th></th>\n",
              "    </tr>\n",
              "  </thead>\n",
              "  <tbody>\n",
              "    <tr>\n",
              "      <th>Delhi</th>\n",
              "      <td>22</td>\n",
              "    </tr>\n",
              "    <tr>\n",
              "      <th>Hydrabad</th>\n",
              "      <td>26</td>\n",
              "    </tr>\n",
              "    <tr>\n",
              "      <th>Indore</th>\n",
              "      <td>24</td>\n",
              "    </tr>\n",
              "    <tr>\n",
              "      <th>Mumbai</th>\n",
              "      <td>23</td>\n",
              "    </tr>\n",
              "    <tr>\n",
              "      <th>Nagpur</th>\n",
              "      <td>23</td>\n",
              "    </tr>\n",
              "    <tr>\n",
              "      <th>Pune</th>\n",
              "      <td>22</td>\n",
              "    </tr>\n",
              "  </tbody>\n",
              "</table>\n",
              "</div>\n",
              "      <button class=\"colab-df-convert\" onclick=\"convertToInteractive('df-9d705aee-659a-4e04-ad8f-53992942a997')\"\n",
              "              title=\"Convert this dataframe to an interactive table.\"\n",
              "              style=\"display:none;\">\n",
              "        \n",
              "  <svg xmlns=\"http://www.w3.org/2000/svg\" height=\"24px\"viewBox=\"0 0 24 24\"\n",
              "       width=\"24px\">\n",
              "    <path d=\"M0 0h24v24H0V0z\" fill=\"none\"/>\n",
              "    <path d=\"M18.56 5.44l.94 2.06.94-2.06 2.06-.94-2.06-.94-.94-2.06-.94 2.06-2.06.94zm-11 1L8.5 8.5l.94-2.06 2.06-.94-2.06-.94L8.5 2.5l-.94 2.06-2.06.94zm10 10l.94 2.06.94-2.06 2.06-.94-2.06-.94-.94-2.06-.94 2.06-2.06.94z\"/><path d=\"M17.41 7.96l-1.37-1.37c-.4-.4-.92-.59-1.43-.59-.52 0-1.04.2-1.43.59L10.3 9.45l-7.72 7.72c-.78.78-.78 2.05 0 2.83L4 21.41c.39.39.9.59 1.41.59.51 0 1.02-.2 1.41-.59l7.78-7.78 2.81-2.81c.8-.78.8-2.07 0-2.86zM5.41 20L4 18.59l7.72-7.72 1.47 1.35L5.41 20z\"/>\n",
              "  </svg>\n",
              "      </button>\n",
              "      \n",
              "  <style>\n",
              "    .colab-df-container {\n",
              "      display:flex;\n",
              "      flex-wrap:wrap;\n",
              "      gap: 12px;\n",
              "    }\n",
              "\n",
              "    .colab-df-convert {\n",
              "      background-color: #E8F0FE;\n",
              "      border: none;\n",
              "      border-radius: 50%;\n",
              "      cursor: pointer;\n",
              "      display: none;\n",
              "      fill: #1967D2;\n",
              "      height: 32px;\n",
              "      padding: 0 0 0 0;\n",
              "      width: 32px;\n",
              "    }\n",
              "\n",
              "    .colab-df-convert:hover {\n",
              "      background-color: #E2EBFA;\n",
              "      box-shadow: 0px 1px 2px rgba(60, 64, 67, 0.3), 0px 1px 3px 1px rgba(60, 64, 67, 0.15);\n",
              "      fill: #174EA6;\n",
              "    }\n",
              "\n",
              "    [theme=dark] .colab-df-convert {\n",
              "      background-color: #3B4455;\n",
              "      fill: #D2E3FC;\n",
              "    }\n",
              "\n",
              "    [theme=dark] .colab-df-convert:hover {\n",
              "      background-color: #434B5C;\n",
              "      box-shadow: 0px 1px 3px 1px rgba(0, 0, 0, 0.15);\n",
              "      filter: drop-shadow(0px 1px 2px rgba(0, 0, 0, 0.3));\n",
              "      fill: #FFFFFF;\n",
              "    }\n",
              "  </style>\n",
              "\n",
              "      <script>\n",
              "        const buttonEl =\n",
              "          document.querySelector('#df-9d705aee-659a-4e04-ad8f-53992942a997 button.colab-df-convert');\n",
              "        buttonEl.style.display =\n",
              "          google.colab.kernel.accessAllowed ? 'block' : 'none';\n",
              "\n",
              "        async function convertToInteractive(key) {\n",
              "          const element = document.querySelector('#df-9d705aee-659a-4e04-ad8f-53992942a997');\n",
              "          const dataTable =\n",
              "            await google.colab.kernel.invokeFunction('convertToInteractive',\n",
              "                                                     [key], {});\n",
              "          if (!dataTable) return;\n",
              "\n",
              "          const docLinkHtml = 'Like what you see? Visit the ' +\n",
              "            '<a target=\"_blank\" href=https://colab.research.google.com/notebooks/data_table.ipynb>data table notebook</a>'\n",
              "            + ' to learn more about interactive tables.';\n",
              "          element.innerHTML = '';\n",
              "          dataTable['output_type'] = 'display_data';\n",
              "          await google.colab.output.renderOutput(dataTable, element);\n",
              "          const docLink = document.createElement('div');\n",
              "          docLink.innerHTML = docLinkHtml;\n",
              "          element.appendChild(docLink);\n",
              "        }\n",
              "      </script>\n",
              "    </div>\n",
              "  </div>\n",
              "  "
            ]
          },
          "metadata": {},
          "execution_count": 37
        }
      ]
    },
    {
      "cell_type": "code",
      "source": [
        "index = df_m.index\n",
        "index\n",
        "df_m['CITY'] = df_m.index\n",
        "df_m\n",
        "index = [0,1,2,3,4,5]\n",
        "df_m.index = index\n",
        "df_m"
      ],
      "metadata": {
        "colab": {
          "base_uri": "https://localhost:8080/",
          "height": 269
        },
        "id": "pXj-U4iu-bnT",
        "outputId": "07732f58-81e3-4adf-cbc6-3863f85beb91"
      },
      "execution_count": null,
      "outputs": [
        {
          "output_type": "execute_result",
          "data": {
            "text/plain": [
              "  AGE      CITY\n",
              "  min          \n",
              "0  22     Delhi\n",
              "1  26  Hydrabad\n",
              "2  24    Indore\n",
              "3  23    Mumbai\n",
              "4  23    Nagpur\n",
              "5  22      Pune"
            ],
            "text/html": [
              "\n",
              "  <div id=\"df-2443797a-ff9a-4955-be8e-47defe57c376\">\n",
              "    <div class=\"colab-df-container\">\n",
              "      <div>\n",
              "<style scoped>\n",
              "    .dataframe tbody tr th:only-of-type {\n",
              "        vertical-align: middle;\n",
              "    }\n",
              "\n",
              "    .dataframe tbody tr th {\n",
              "        vertical-align: top;\n",
              "    }\n",
              "\n",
              "    .dataframe thead tr th {\n",
              "        text-align: left;\n",
              "    }\n",
              "</style>\n",
              "<table border=\"1\" class=\"dataframe\">\n",
              "  <thead>\n",
              "    <tr>\n",
              "      <th></th>\n",
              "      <th>AGE</th>\n",
              "      <th>CITY</th>\n",
              "    </tr>\n",
              "    <tr>\n",
              "      <th></th>\n",
              "      <th>min</th>\n",
              "      <th></th>\n",
              "    </tr>\n",
              "  </thead>\n",
              "  <tbody>\n",
              "    <tr>\n",
              "      <th>0</th>\n",
              "      <td>22</td>\n",
              "      <td>Delhi</td>\n",
              "    </tr>\n",
              "    <tr>\n",
              "      <th>1</th>\n",
              "      <td>26</td>\n",
              "      <td>Hydrabad</td>\n",
              "    </tr>\n",
              "    <tr>\n",
              "      <th>2</th>\n",
              "      <td>24</td>\n",
              "      <td>Indore</td>\n",
              "    </tr>\n",
              "    <tr>\n",
              "      <th>3</th>\n",
              "      <td>23</td>\n",
              "      <td>Mumbai</td>\n",
              "    </tr>\n",
              "    <tr>\n",
              "      <th>4</th>\n",
              "      <td>23</td>\n",
              "      <td>Nagpur</td>\n",
              "    </tr>\n",
              "    <tr>\n",
              "      <th>5</th>\n",
              "      <td>22</td>\n",
              "      <td>Pune</td>\n",
              "    </tr>\n",
              "  </tbody>\n",
              "</table>\n",
              "</div>\n",
              "      <button class=\"colab-df-convert\" onclick=\"convertToInteractive('df-2443797a-ff9a-4955-be8e-47defe57c376')\"\n",
              "              title=\"Convert this dataframe to an interactive table.\"\n",
              "              style=\"display:none;\">\n",
              "        \n",
              "  <svg xmlns=\"http://www.w3.org/2000/svg\" height=\"24px\"viewBox=\"0 0 24 24\"\n",
              "       width=\"24px\">\n",
              "    <path d=\"M0 0h24v24H0V0z\" fill=\"none\"/>\n",
              "    <path d=\"M18.56 5.44l.94 2.06.94-2.06 2.06-.94-2.06-.94-.94-2.06-.94 2.06-2.06.94zm-11 1L8.5 8.5l.94-2.06 2.06-.94-2.06-.94L8.5 2.5l-.94 2.06-2.06.94zm10 10l.94 2.06.94-2.06 2.06-.94-2.06-.94-.94-2.06-.94 2.06-2.06.94z\"/><path d=\"M17.41 7.96l-1.37-1.37c-.4-.4-.92-.59-1.43-.59-.52 0-1.04.2-1.43.59L10.3 9.45l-7.72 7.72c-.78.78-.78 2.05 0 2.83L4 21.41c.39.39.9.59 1.41.59.51 0 1.02-.2 1.41-.59l7.78-7.78 2.81-2.81c.8-.78.8-2.07 0-2.86zM5.41 20L4 18.59l7.72-7.72 1.47 1.35L5.41 20z\"/>\n",
              "  </svg>\n",
              "      </button>\n",
              "      \n",
              "  <style>\n",
              "    .colab-df-container {\n",
              "      display:flex;\n",
              "      flex-wrap:wrap;\n",
              "      gap: 12px;\n",
              "    }\n",
              "\n",
              "    .colab-df-convert {\n",
              "      background-color: #E8F0FE;\n",
              "      border: none;\n",
              "      border-radius: 50%;\n",
              "      cursor: pointer;\n",
              "      display: none;\n",
              "      fill: #1967D2;\n",
              "      height: 32px;\n",
              "      padding: 0 0 0 0;\n",
              "      width: 32px;\n",
              "    }\n",
              "\n",
              "    .colab-df-convert:hover {\n",
              "      background-color: #E2EBFA;\n",
              "      box-shadow: 0px 1px 2px rgba(60, 64, 67, 0.3), 0px 1px 3px 1px rgba(60, 64, 67, 0.15);\n",
              "      fill: #174EA6;\n",
              "    }\n",
              "\n",
              "    [theme=dark] .colab-df-convert {\n",
              "      background-color: #3B4455;\n",
              "      fill: #D2E3FC;\n",
              "    }\n",
              "\n",
              "    [theme=dark] .colab-df-convert:hover {\n",
              "      background-color: #434B5C;\n",
              "      box-shadow: 0px 1px 3px 1px rgba(0, 0, 0, 0.15);\n",
              "      filter: drop-shadow(0px 1px 2px rgba(0, 0, 0, 0.3));\n",
              "      fill: #FFFFFF;\n",
              "    }\n",
              "  </style>\n",
              "\n",
              "      <script>\n",
              "        const buttonEl =\n",
              "          document.querySelector('#df-2443797a-ff9a-4955-be8e-47defe57c376 button.colab-df-convert');\n",
              "        buttonEl.style.display =\n",
              "          google.colab.kernel.accessAllowed ? 'block' : 'none';\n",
              "\n",
              "        async function convertToInteractive(key) {\n",
              "          const element = document.querySelector('#df-2443797a-ff9a-4955-be8e-47defe57c376');\n",
              "          const dataTable =\n",
              "            await google.colab.kernel.invokeFunction('convertToInteractive',\n",
              "                                                     [key], {});\n",
              "          if (!dataTable) return;\n",
              "\n",
              "          const docLinkHtml = 'Like what you see? Visit the ' +\n",
              "            '<a target=\"_blank\" href=https://colab.research.google.com/notebooks/data_table.ipynb>data table notebook</a>'\n",
              "            + ' to learn more about interactive tables.';\n",
              "          element.innerHTML = '';\n",
              "          dataTable['output_type'] = 'display_data';\n",
              "          await google.colab.output.renderOutput(dataTable, element);\n",
              "          const docLink = document.createElement('div');\n",
              "          docLink.innerHTML = docLinkHtml;\n",
              "          element.appendChild(docLink);\n",
              "        }\n",
              "      </script>\n",
              "    </div>\n",
              "  </div>\n",
              "  "
            ]
          },
          "metadata": {},
          "execution_count": 41
        }
      ]
    },
    {
      "cell_type": "code",
      "source": [
        "for i in range(len(df_m)):\n",
        "  result = df_m.loc[i, 'CITY']\n",
        "  print(result)\n",
        "\n",
        "print(type(result)) \n"
      ],
      "metadata": {
        "colab": {
          "base_uri": "https://localhost:8080/"
        },
        "id": "lh-lskeG3Fek",
        "outputId": "5ab2bf8c-80f6-43cf-fb73-a7430d532bce"
      },
      "execution_count": null,
      "outputs": [
        {
          "output_type": "stream",
          "name": "stdout",
          "text": [
            "    Delhi\n",
            "Name: 0, dtype: object\n",
            "    Hydrabad\n",
            "Name: 1, dtype: object\n",
            "    Indore\n",
            "Name: 2, dtype: object\n",
            "    Mumbai\n",
            "Name: 3, dtype: object\n",
            "    Nagpur\n",
            "Name: 4, dtype: object\n",
            "    Pune\n",
            "Name: 5, dtype: object\n",
            "<class 'pandas.core.series.Series'>\n"
          ]
        }
      ]
    },
    {
      "cell_type": "code",
      "source": [
        "print(type(df_excel['CITY']))"
      ],
      "metadata": {
        "colab": {
          "base_uri": "https://localhost:8080/"
        },
        "id": "T9j_CbxGC8FS",
        "outputId": "81804ab9-b1d1-499b-96ba-f3fed92a346f"
      },
      "execution_count": null,
      "outputs": [
        {
          "output_type": "stream",
          "name": "stdout",
          "text": [
            "<class 'pandas.core.series.Series'>\n"
          ]
        }
      ]
    },
    {
      "cell_type": "code",
      "source": [
        "for i in range(len(df_m)):\n",
        "  print(df_excel.loc[(df_excel['AGE'] == df_excel.loc[i,'AGE']) & (df_excel['CITY'] == df_excel.loc[i,'CITY'])])\n",
        "#df_excel.loc[(df_excel['AGE'] == 49) & (df_excel['CITY'] == 'Delhi')] \n",
        "\n",
        "#print(x) \n",
        "#df_m"
      ],
      "metadata": {
        "id": "fRRgemymK8sN",
        "colab": {
          "base_uri": "https://localhost:8080/"
        },
        "outputId": "209c9058-50e8-483a-8b03-347550c5ea77"
      },
      "execution_count": null,
      "outputs": [
        {
          "output_type": "stream",
          "name": "stdout",
          "text": [
            "     ID               NAME    CITY   DEPT  AGE  Sport score\n",
            "0  A001  HARTEJ SINGH ASSI  Mumbai  sales   23           56\n",
            "     ID               NAME   CITY        DEPT  AGE  Sport score\n",
            "1  A002  BHAVESH BALDANIYA  Delhi  technology   35           57\n",
            "     ID          NAME   CITY        DEPT  AGE  Sport score\n",
            "2  A003  YASH BAVISHI  Delhi  production   22           23\n",
            "     ID            NAME    CITY   DEPT  AGE  Sport score\n",
            "3  A004  SHREEKARA BHAT  Indore  sales   34           44\n",
            "     ID         NAME    CITY        DEPT  AGE  Sport score\n",
            "4  A005  KUNAL BHATT  Mumbai  technology   31           56\n",
            "     ID            NAME    CITY        DEPT  AGE  Sport score\n",
            "5  A006  DARRYL CARDOZA  Mumbai  production   26           88\n"
          ]
        }
      ]
    },
    {
      "cell_type": "code",
      "source": [
        "df_m = df_excel.groupby(['DEPT']).aggregate({'AGE':['min']})  # it gives minimum age in the department.\n",
        "print(df_m)"
      ],
      "metadata": {
        "id": "Fro-iFCw6dc2"
      },
      "execution_count": null,
      "outputs": []
    },
    {
      "cell_type": "markdown",
      "source": [
        "# Q3: What is the mininum and maximum age of an employee in each department within the city?"
      ],
      "metadata": {
        "id": "dJn0fvBH7vaA"
      }
    },
    {
      "cell_type": "code",
      "source": [
        "df_m = df_excel.groupby(['CITY','DEPT']).aggregate({'AGE':['min','max']})  # it gives minimum age in the department.\n",
        "print(df_m)"
      ],
      "metadata": {
        "id": "LcV9mlnL70TQ"
      },
      "execution_count": null,
      "outputs": []
    },
    {
      "cell_type": "markdown",
      "source": [
        "# What is the avarage sports score of an employee in each department within the city?"
      ],
      "metadata": {
        "id": "KL55poKX6yOL"
      }
    },
    {
      "cell_type": "code",
      "source": [
        "df_m = df_excel.groupby(['CITY','DEPT']).aggregate({'Sport score':['mean']})  # it gives average age in the department, city wise\n",
        "print(df_m)"
      ],
      "metadata": {
        "id": "Buw3Zo9v7_PX"
      },
      "execution_count": null,
      "outputs": []
    },
    {
      "cell_type": "code",
      "source": [
        "df_m = df_excel.groupby(['DEPT','CITY']).aggregate({'AGE':['max']})  # it gives maximum age in the department, city wise\n",
        "print(df_m)"
      ],
      "metadata": {
        "id": "mGPJ24_m8JYP"
      },
      "execution_count": null,
      "outputs": []
    },
    {
      "cell_type": "code",
      "source": [
        "df_m = df_excel.groupby(['city','dept']).aggregate({'sport score':['mean']})  # it gives maximum age in the department, city wise\n",
        "print(df_m)"
      ],
      "metadata": {
        "id": "V3W48SEXdvay"
      },
      "execution_count": null,
      "outputs": []
    },
    {
      "cell_type": "code",
      "source": [
        "for emp_city, emp_dept in df_m:\n",
        "  print(emp_city)\n",
        "  print(emp_dept)"
      ],
      "metadata": {
        "colab": {
          "base_uri": "https://localhost:8080/"
        },
        "id": "d3r3v9L-eEQs",
        "outputId": "845e2e54-d521-4c61-acea-819155fbefad"
      },
      "execution_count": null,
      "outputs": [
        {
          "output_type": "stream",
          "name": "stdout",
          "text": [
            "sport score\n",
            "mean\n"
          ]
        }
      ]
    }
  ]
}