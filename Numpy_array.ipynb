{
  "nbformat": 4,
  "nbformat_minor": 0,
  "metadata": {
    "colab": {
      "provenance": []
    },
    "kernelspec": {
      "name": "python3",
      "display_name": "Python 3"
    },
    "language_info": {
      "name": "python"
    }
  },
  "cells": [
    {
      "cell_type": "code",
      "execution_count": null,
      "metadata": {
        "id": "Qct_DOqv0P5M",
        "colab": {
          "base_uri": "https://localhost:8080/"
        },
        "outputId": "8104a768-e6bc-4469-ebb8-f1eb3f9c8593"
      },
      "outputs": [
        {
          "output_type": "stream",
          "name": "stdout",
          "text": [
            "<class 'str'>\n"
          ]
        }
      ],
      "source": [
        "l = [2,3,4,\"A\"]\n",
        "l\n",
        "print(type(l[3])\n"
      ]
    },
    {
      "cell_type": "code",
      "source": [
        "import numpy as np\n",
        "a = np.array([2,3,'A'])\n",
        "print(a)\n",
        "print(type(a[0]))\n",
        "print(a.dtype)"
      ],
      "metadata": {
        "colab": {
          "base_uri": "https://localhost:8080/"
        },
        "id": "eDEpHc5cj5U7",
        "outputId": "5e91bc96-7d2e-4214-e571-66e2bd9447c1"
      },
      "execution_count": null,
      "outputs": [
        {
          "output_type": "stream",
          "name": "stdout",
          "text": [
            "['2' '3' 'A']\n",
            "<class 'numpy.str_'>\n",
            "<U21\n"
          ]
        }
      ]
    },
    {
      "cell_type": "code",
      "source": [
        "b = np.array([2,3,3])\n",
        "print(b)\n",
        "print(type(b[0]))"
      ],
      "metadata": {
        "colab": {
          "base_uri": "https://localhost:8080/"
        },
        "id": "TEiyVrE1kKNg",
        "outputId": "2b1d53c6-092f-4a1d-d0e8-ead285b42889"
      },
      "execution_count": null,
      "outputs": [
        {
          "output_type": "stream",
          "name": "stdout",
          "text": [
            "[2 3 3]\n",
            "<class 'numpy.int64'>\n"
          ]
        }
      ]
    },
    {
      "cell_type": "code",
      "source": [
        "# setting data type of the numpy array\n",
        "\n",
        "m = np.array([2,30,4], dtype = 'int8')\n",
        "m"
      ],
      "metadata": {
        "colab": {
          "base_uri": "https://localhost:8080/"
        },
        "id": "uNMUPFSss-Co",
        "outputId": "4e2a9f42-dd6d-4a12-f4f6-fffb3ef1852c"
      },
      "execution_count": null,
      "outputs": [
        {
          "output_type": "execute_result",
          "data": {
            "text/plain": [
              "array([ 2, 30,  4], dtype=int8)"
            ]
          },
          "metadata": {},
          "execution_count": 49
        }
      ]
    },
    {
      "cell_type": "code",
      "source": [
        "m = np.array([20000000,3000000,46000000], dtype = 'int8')\n",
        "m"
      ],
      "metadata": {
        "colab": {
          "base_uri": "https://localhost:8080/"
        },
        "id": "5XtOP-x8tlFO",
        "outputId": "231fe03f-71bc-492b-8c1f-9bb4585ed799"
      },
      "execution_count": null,
      "outputs": [
        {
          "output_type": "execute_result",
          "data": {
            "text/plain": [
              "array([   0,  -64, -128], dtype=int8)"
            ]
          },
          "metadata": {},
          "execution_count": 99
        }
      ]
    },
    {
      "cell_type": "code",
      "source": [
        "l1 = [1,2]\n",
        "l2 = [2,3]\n",
        "print(l1*l2)"
      ],
      "metadata": {
        "id": "aAiFtq45lDTY"
      },
      "execution_count": null,
      "outputs": []
    },
    {
      "cell_type": "code",
      "source": [
        "b = np.array([2,3,3])\n",
        "a = np.array([2,3,3])\n",
        "print(a*b)"
      ],
      "metadata": {
        "colab": {
          "base_uri": "https://localhost:8080/"
        },
        "id": "ZLu0DDhFlNru",
        "outputId": "72dad987-fa4b-443f-f632-e70c62a78a04"
      },
      "execution_count": null,
      "outputs": [
        {
          "output_type": "stream",
          "name": "stdout",
          "text": [
            "[4 9 9]\n"
          ]
        }
      ]
    },
    {
      "cell_type": "code",
      "source": [
        "a = np.array([[2,3,3],[3,2,2]])\n",
        "a.dtype  # print type of the array"
      ],
      "metadata": {
        "colab": {
          "base_uri": "https://localhost:8080/"
        },
        "id": "lI_5fDCrlNju",
        "outputId": "0bae3447-e6db-4c67-cb10-d7ab091aa170"
      },
      "execution_count": null,
      "outputs": [
        {
          "output_type": "execute_result",
          "data": {
            "text/plain": [
              "dtype('int64')"
            ]
          },
          "metadata": {},
          "execution_count": 18
        }
      ]
    },
    {
      "cell_type": "code",
      "source": [
        "a.shape # print shape of the array"
      ],
      "metadata": {
        "id": "SX47aEg9mBYt",
        "colab": {
          "base_uri": "https://localhost:8080/"
        },
        "outputId": "2ab73592-76f1-4e7f-cb30-d4a84bd06afc"
      },
      "execution_count": null,
      "outputs": [
        {
          "output_type": "execute_result",
          "data": {
            "text/plain": [
              "(3,)"
            ]
          },
          "metadata": {},
          "execution_count": 102
        }
      ]
    },
    {
      "cell_type": "code",
      "source": [
        "a.ndim   # get dimension pf teh array"
      ],
      "metadata": {
        "id": "qOZ4EQ7Sml-x",
        "colab": {
          "base_uri": "https://localhost:8080/"
        },
        "outputId": "a21ff9e5-35b2-4fce-9ea9-8603cd257493"
      },
      "execution_count": null,
      "outputs": [
        {
          "output_type": "execute_result",
          "data": {
            "text/plain": [
              "1"
            ]
          },
          "metadata": {},
          "execution_count": 103
        }
      ]
    },
    {
      "cell_type": "code",
      "source": [
        "#a.itemsize  # get size of the each element in bytes\n",
        "b.itemsize"
      ],
      "metadata": {
        "id": "ryAanTZxmrzg",
        "colab": {
          "base_uri": "https://localhost:8080/"
        },
        "outputId": "1eb9fe39-e33b-4e29-a6d9-bf45c7059d3e"
      },
      "execution_count": null,
      "outputs": [
        {
          "output_type": "execute_result",
          "data": {
            "text/plain": [
              "8"
            ]
          },
          "metadata": {},
          "execution_count": 104
        }
      ]
    },
    {
      "cell_type": "code",
      "source": [
        "b.nbytes # total size of an array in bytes"
      ],
      "metadata": {
        "id": "TpUM5h3znSlC",
        "colab": {
          "base_uri": "https://localhost:8080/"
        },
        "outputId": "a4e5d01f-9bf6-4409-adb6-872e4e3b7512"
      },
      "execution_count": null,
      "outputs": [
        {
          "output_type": "execute_result",
          "data": {
            "text/plain": [
              "24"
            ]
          },
          "metadata": {},
          "execution_count": 106
        }
      ]
    },
    {
      "cell_type": "code",
      "source": [
        "import numpy as np\n",
        "m = np.array([2,30,4], dtype = 'int8')\n",
        "m"
      ],
      "metadata": {
        "colab": {
          "base_uri": "https://localhost:8080/"
        },
        "id": "hz6Pn27nzRAp",
        "outputId": "38c8d828-e854-4f53-9d8d-37ef42524c5e"
      },
      "execution_count": null,
      "outputs": [
        {
          "output_type": "execute_result",
          "data": {
            "text/plain": [
              "array([ 2, 30,  4], dtype=int8)"
            ]
          },
          "metadata": {},
          "execution_count": 2
        }
      ]
    },
    {
      "cell_type": "code",
      "source": [
        "m.itemsize  get size of the each element in bytes"
      ],
      "metadata": {
        "colab": {
          "base_uri": "https://localhost:8080/"
        },
        "id": "ePIyHFL7zfbY",
        "outputId": "e149aed1-897b-415d-d6a0-c4f6f5b3fdf8"
      },
      "execution_count": null,
      "outputs": [
        {
          "output_type": "execute_result",
          "data": {
            "text/plain": [
              "1"
            ]
          },
          "metadata": {},
          "execution_count": 3
        }
      ]
    },
    {
      "cell_type": "code",
      "source": [
        "import random\n",
        "import timeit\n",
        "n= 100\n",
        "\n",
        "x = [random.random() for i in range(n)]\n",
        "print(x)\n",
        "len(x)\n"
      ],
      "metadata": {
        "id": "Jdatkl8posH6",
        "colab": {
          "base_uri": "https://localhost:8080/"
        },
        "outputId": "1dc84370-77f8-4f06-9985-42d20b4ae93e"
      },
      "execution_count": null,
      "outputs": [
        {
          "output_type": "stream",
          "name": "stdout",
          "text": [
            "[0.6617205016640735, 0.21549726302474026, 0.800206421726114, 0.28524634012552297, 0.4925043615374348, 0.9488105121174646, 0.2520654137839019, 0.20788680975791396, 0.8644019929489505, 0.7885992824944994, 0.38102922016427043, 0.20574926512479774, 0.38190568117352, 0.6003575294789292, 0.7971922517690103, 0.7704492150783576, 0.03649308096871884, 0.19607305837589606, 0.5871264334848169, 0.29959267323214245, 0.5041160131513095, 0.2911478190634348, 0.8019398028326065, 0.4384067876387133, 0.470180140870078, 0.8160510354169342, 0.9746512470252006, 0.06527960869148641, 0.38711710941724564, 0.06145055361522278, 0.1596963747697544, 0.7989661584130913, 0.6573106619772282, 0.9983456258533534, 0.6402311966226784, 0.0780830108608539, 0.8257117930538337, 0.011154091411269662, 0.11894581068951515, 0.31849321974540723, 0.813627092437801, 0.373181973926053, 0.5082471037714101, 0.1355092110429793, 0.37283617150833603, 0.8557768709048291, 0.6084535922741539, 0.998507369433321, 0.06985866685444608, 0.21796450898666864, 0.1890971996349352, 0.7620254716060756, 0.6011131583190557, 0.12112350746683576, 0.5650142101266385, 0.2362737249923097, 0.19102512147852746, 0.45546854709568907, 0.8988891014411147, 0.4016111542482038, 0.8575988783032178, 0.18163895432396127, 0.4634219167880195, 0.8855783713672145, 0.5604049429322678, 0.8201772135280041, 0.4498012175918277, 0.524040396929037, 0.6286824182140965, 0.7941220305082946, 0.8819754873419496, 0.7955032320547284, 0.07743854201018452, 0.28333108760559755, 0.0010712597906091803, 0.3742254989526953, 0.26850388693293936, 0.4000567333985833, 0.9403405788858096, 0.3251039941653582, 0.5277319911313533, 0.5087990730643862, 0.9084508530722941, 0.25594736607455626, 0.2682399675038182, 0.8628561745501448, 0.8881789533893693, 0.3444717312749308, 0.2360529880489316, 0.18202573954174128, 0.6660829797610959, 0.4102091455026685, 0.9080302558167787, 0.9569893521151801, 0.1806024676924377, 0.8664139729836079, 0.7148180959844425, 0.9787863591294536, 0.15470613942908118, 0.8693724037907318]\n"
          ]
        },
        {
          "output_type": "execute_result",
          "data": {
            "text/plain": [
              "100"
            ]
          },
          "metadata": {},
          "execution_count": 107
        }
      ]
    },
    {
      "cell_type": "code",
      "source": [
        "y = [random.random() for i in range(n)]\n",
        "\n",
        "z = [x[i] + y[i] for i in range(n)]\n",
        "z"
      ],
      "metadata": {
        "id": "cQRMd4vXpuRs"
      },
      "execution_count": null,
      "outputs": []
    },
    {
      "cell_type": "code",
      "source": [
        "# speed without numpy\n",
        "\n",
        "%timeit [x[i] + y[i] for i in range(n)]"
      ],
      "metadata": {
        "colab": {
          "base_uri": "https://localhost:8080/"
        },
        "id": "K-0QFWFJqeUE",
        "outputId": "017821c9-d309-4be2-d340-5e684eb14092"
      },
      "execution_count": null,
      "outputs": [
        {
          "output_type": "stream",
          "name": "stdout",
          "text": [
            "9.92 µs ± 126 ns per loop (mean ± std. dev. of 7 runs, 100000 loops each)\n"
          ]
        }
      ]
    },
    {
      "cell_type": "code",
      "source": [
        "xa = np.array(x)\n",
        "ya = np.array(y)\n",
        "za = xa + ya\n",
        "za"
      ],
      "metadata": {
        "id": "nOFahgz1qy7q"
      },
      "execution_count": null,
      "outputs": []
    },
    {
      "cell_type": "code",
      "source": [
        "# spped with numpy array\n",
        "%timeit xa + ya"
      ],
      "metadata": {
        "id": "oVVDYugYrAoN",
        "colab": {
          "base_uri": "https://localhost:8080/"
        },
        "outputId": "0ec9abab-c8c4-4752-bd45-2fd6400794d0"
      },
      "execution_count": null,
      "outputs": [
        {
          "output_type": "stream",
          "name": "stdout",
          "text": [
            "730 ns ± 263 ns per loop (mean ± std. dev. of 7 runs, 1000000 loops each)\n"
          ]
        }
      ]
    },
    {
      "cell_type": "code",
      "source": [
        "# creating 3 D array \n",
        "a = np.array([[[2,3]],[[2,2]]])\n",
        "print(a)\n",
        "a.shape"
      ],
      "metadata": {
        "colab": {
          "base_uri": "https://localhost:8080/"
        },
        "id": "bBkcHg6WsNDn",
        "outputId": "1edfb317-9c79-4b88-ab5e-a9bc2bd61c21"
      },
      "execution_count": null,
      "outputs": [
        {
          "output_type": "stream",
          "name": "stdout",
          "text": [
            "[[[2 3]]\n",
            "\n",
            " [[2 2]]]\n"
          ]
        },
        {
          "output_type": "execute_result",
          "data": {
            "text/plain": [
              "(2, 1, 2)"
            ]
          },
          "metadata": {},
          "execution_count": 113
        }
      ]
    },
    {
      "cell_type": "code",
      "source": [
        "a = np.ones((2,2,2))\n",
        "a"
      ],
      "metadata": {
        "colab": {
          "base_uri": "https://localhost:8080/"
        },
        "id": "MI51U8NPykg1",
        "outputId": "4f6234d9-a93c-447b-a0e4-6cc95f10816c"
      },
      "execution_count": null,
      "outputs": [
        {
          "output_type": "execute_result",
          "data": {
            "text/plain": [
              "array([[[1., 1.],\n",
              "        [1., 1.]],\n",
              "\n",
              "       [[1., 1.],\n",
              "        [1., 1.]]])"
            ]
          },
          "metadata": {},
          "execution_count": 65
        }
      ]
    },
    {
      "cell_type": "code",
      "source": [
        "# Reshaping of an array\n",
        "a = np.array([[2,3,3],[3,2,2]])\n",
        "a  # print type of the array\n",
        "a.reshape(3,2)  # It will not reshape the original array\n",
        "a"
      ],
      "metadata": {
        "colab": {
          "base_uri": "https://localhost:8080/"
        },
        "id": "UKqhzadU0AFQ",
        "outputId": "9cb6b0e1-bbab-4df0-b382-d12fa95d193e"
      },
      "execution_count": null,
      "outputs": [
        {
          "output_type": "execute_result",
          "data": {
            "text/plain": [
              "array([[2, 3, 3],\n",
              "       [3, 2, 2]])"
            ]
          },
          "metadata": {},
          "execution_count": 73
        }
      ]
    },
    {
      "cell_type": "code",
      "source": [
        "a = a.reshape(3,2)  # It will reshape the original array\n",
        "a"
      ],
      "metadata": {
        "colab": {
          "base_uri": "https://localhost:8080/"
        },
        "id": "z3em_9q-0f1J",
        "outputId": "a68db15b-035d-45b8-dde7-5331853b9d64"
      },
      "execution_count": null,
      "outputs": [
        {
          "output_type": "execute_result",
          "data": {
            "text/plain": [
              "array([[2, 3],\n",
              "       [3, 3],\n",
              "       [2, 2]])"
            ]
          },
          "metadata": {},
          "execution_count": 74
        }
      ]
    },
    {
      "cell_type": "code",
      "source": [
        "# copying array\n",
        "a = np.array([[[2,3,3],[3,2,2],[1,1,1]], [[2,3,3],[3,2,2],[2,2,2]], [[2,3,3],[3,2,2],[3,3,3]]])\n",
        "b= a.copy()\n",
        "print(b)\n",
        "b.shape\n"
      ],
      "metadata": {
        "colab": {
          "base_uri": "https://localhost:8080/"
        },
        "id": "knVhSOZ40zG6",
        "outputId": "1e17b57a-1fc0-4917-a550-b324fa0868ba"
      },
      "execution_count": null,
      "outputs": [
        {
          "output_type": "stream",
          "name": "stdout",
          "text": [
            "[[[2 3 3]\n",
            "  [3 2 2]\n",
            "  [1 1 1]]\n",
            "\n",
            " [[2 3 3]\n",
            "  [3 2 2]\n",
            "  [2 2 2]]\n",
            "\n",
            " [[2 3 3]\n",
            "  [3 2 2]\n",
            "  [3 3 3]]]\n"
          ]
        },
        {
          "output_type": "execute_result",
          "data": {
            "text/plain": [
              "(3, 3, 3)"
            ]
          },
          "metadata": {},
          "execution_count": 4
        }
      ]
    },
    {
      "cell_type": "code",
      "source": [
        "b[0] = 100\n",
        "b"
      ],
      "metadata": {
        "colab": {
          "base_uri": "https://localhost:8080/"
        },
        "id": "sTuFX18v1BkA",
        "outputId": "0d664079-e002-49c6-9a75-1a1ec7c1342f"
      },
      "execution_count": null,
      "outputs": [
        {
          "output_type": "execute_result",
          "data": {
            "text/plain": [
              "array([[[100, 100, 100],\n",
              "        [100, 100, 100],\n",
              "        [100, 100, 100]],\n",
              "\n",
              "       [[  2,   3,   3],\n",
              "        [  3,   2,   2],\n",
              "        [  2,   2,   2]],\n",
              "\n",
              "       [[  2,   3,   3],\n",
              "        [  3,   2,   2],\n",
              "        [  3,   3,   3]]])"
            ]
          },
          "metadata": {},
          "execution_count": 5
        }
      ]
    },
    {
      "cell_type": "code",
      "source": [
        "a"
      ],
      "metadata": {
        "colab": {
          "base_uri": "https://localhost:8080/"
        },
        "id": "szoUM3dN1JcX",
        "outputId": "459f63a0-9ecb-4c84-b447-c4a8fa4b12d6"
      },
      "execution_count": null,
      "outputs": [
        {
          "output_type": "execute_result",
          "data": {
            "text/plain": [
              "array([[[2, 3, 3],\n",
              "        [3, 2, 2],\n",
              "        [1, 1, 1]],\n",
              "\n",
              "       [[2, 3, 3],\n",
              "        [3, 2, 2],\n",
              "        [2, 2, 2]],\n",
              "\n",
              "       [[2, 3, 3],\n",
              "        [3, 2, 2],\n",
              "        [3, 3, 3]]])"
            ]
          },
          "metadata": {},
          "execution_count": 6
        }
      ]
    },
    {
      "cell_type": "markdown",
      "source": [
        "# Mathematics"
      ],
      "metadata": {
        "id": "SjA9E2VS2CON"
      }
    },
    {
      "cell_type": "code",
      "source": [
        "a = np.array([2,3,3])\n",
        "a+2\n",
        "print(a)"
      ],
      "metadata": {
        "colab": {
          "base_uri": "https://localhost:8080/"
        },
        "id": "veltbAOX2Aat",
        "outputId": "b9e7e558-9ec3-4579-f66b-a6432c9cd048"
      },
      "execution_count": null,
      "outputs": [
        {
          "output_type": "stream",
          "name": "stdout",
          "text": [
            "[2 3 3]\n"
          ]
        }
      ]
    },
    {
      "cell_type": "code",
      "source": [
        "a-2"
      ],
      "metadata": {
        "colab": {
          "base_uri": "https://localhost:8080/"
        },
        "id": "1D3Ywlwl2QsN",
        "outputId": "a57871d2-5048-41fc-ba79-534b62f43597"
      },
      "execution_count": null,
      "outputs": [
        {
          "output_type": "execute_result",
          "data": {
            "text/plain": [
              "array([0, 1, 1])"
            ]
          },
          "metadata": {},
          "execution_count": 81
        }
      ]
    },
    {
      "cell_type": "markdown",
      "source": [
        "#Accessing / changing specific value from the array"
      ],
      "metadata": {
        "id": "YJxoerDu2zGi"
      }
    },
    {
      "cell_type": "code",
      "source": [
        "a = np.array([[1,2,3,4,5,6,7],[8,9,10,11,12,13,14]])\n",
        "a"
      ],
      "metadata": {
        "colab": {
          "base_uri": "https://localhost:8080/"
        },
        "id": "Pqu4W8jN28qI",
        "outputId": "8dd0b41e-303d-4bdb-cb28-14a8804bef3f"
      },
      "execution_count": null,
      "outputs": [
        {
          "output_type": "execute_result",
          "data": {
            "text/plain": [
              "array([[ 1,  2,  3,  4,  5,  6,  7],\n",
              "       [ 8,  9, 10, 11, 12, 13, 14]])"
            ]
          },
          "metadata": {},
          "execution_count": 23
        }
      ]
    },
    {
      "cell_type": "code",
      "source": [
        "a.shape"
      ],
      "metadata": {
        "id": "UmIaZanW38-E"
      },
      "execution_count": null,
      "outputs": []
    },
    {
      "cell_type": "code",
      "source": [
        "# get specific element\n",
        "a[1,4]"
      ],
      "metadata": {
        "colab": {
          "base_uri": "https://localhost:8080/"
        },
        "id": "jezMzLX53ig6",
        "outputId": "db02eaee-d537-4470-bf51-f3247cb018e6"
      },
      "execution_count": null,
      "outputs": [
        {
          "output_type": "execute_result",
          "data": {
            "text/plain": [
              "12"
            ]
          },
          "metadata": {},
          "execution_count": 20
        }
      ]
    },
    {
      "cell_type": "code",
      "source": [
        "# get specific row\n",
        "a[0, :]"
      ],
      "metadata": {
        "colab": {
          "base_uri": "https://localhost:8080/"
        },
        "id": "iQ9ALuoP3tKg",
        "outputId": "d51d7ac8-1fc3-4d42-8f17-9746976bb9cc"
      },
      "execution_count": null,
      "outputs": [
        {
          "output_type": "execute_result",
          "data": {
            "text/plain": [
              "array([1, 2, 3, 4, 5, 6, 7])"
            ]
          },
          "metadata": {},
          "execution_count": 21
        }
      ]
    },
    {
      "cell_type": "code",
      "source": [
        "# get specific column\n",
        "a[:,4]"
      ],
      "metadata": {
        "colab": {
          "base_uri": "https://localhost:8080/"
        },
        "id": "EKqAJQ6I3zuj",
        "outputId": "da165a3c-da5e-421f-d7d5-0e756f6205d7"
      },
      "execution_count": null,
      "outputs": [
        {
          "output_type": "execute_result",
          "data": {
            "text/plain": [
              "array([ 5, 12])"
            ]
          },
          "metadata": {},
          "execution_count": 22
        }
      ]
    },
    {
      "cell_type": "code",
      "source": [
        "# Replacing an element with different value\n",
        "a[1,4] = 30 \n",
        "a"
      ],
      "metadata": {
        "colab": {
          "base_uri": "https://localhost:8080/"
        },
        "id": "8HR0bdhK4C8_",
        "outputId": "c18e5e68-cc0f-45e8-a922-0fc934fcf83b"
      },
      "execution_count": null,
      "outputs": [
        {
          "output_type": "execute_result",
          "data": {
            "text/plain": [
              "array([[ 1,  2,  3,  4,  5,  6,  7],\n",
              "       [ 8,  9, 10, 11, 30, 13, 14]])"
            ]
          },
          "metadata": {},
          "execution_count": 25
        }
      ]
    },
    {
      "cell_type": "code",
      "source": [
        " # Replacing coulum with different value\n",
        " a[:,6] = 100\n",
        " a"
      ],
      "metadata": {
        "colab": {
          "base_uri": "https://localhost:8080/"
        },
        "id": "jKXpNybb4P0J",
        "outputId": "abdb9b28-be95-4fb9-a764-ce6279f2db9f"
      },
      "execution_count": null,
      "outputs": [
        {
          "output_type": "execute_result",
          "data": {
            "text/plain": [
              "array([[  1,   2,   3,   4,   5,   6, 100],\n",
              "       [  8,   9,  10,  11,  30,  13, 100]])"
            ]
          },
          "metadata": {},
          "execution_count": 26
        }
      ]
    },
    {
      "cell_type": "code",
      "source": [
        "# Replacing row with different value\n",
        "a[0,:] = 100\n",
        "a"
      ],
      "metadata": {
        "colab": {
          "base_uri": "https://localhost:8080/"
        },
        "id": "enW4jfNh4dBg",
        "outputId": "77fb5ede-75fe-4b03-b272-ff0ce3becf57"
      },
      "execution_count": null,
      "outputs": [
        {
          "output_type": "execute_result",
          "data": {
            "text/plain": [
              "array([[100, 100, 100, 100, 100, 100, 100],\n",
              "       [  8,   9,  10,  11,  30,  13, 100]])"
            ]
          },
          "metadata": {},
          "execution_count": 29
        }
      ]
    },
    {
      "cell_type": "markdown",
      "source": [
        "# some matrix manipulation functions "
      ],
      "metadata": {
        "id": "bjY0xJku5X9X"
      }
    },
    {
      "cell_type": "code",
      "source": [
        "# creating an array with intial values with full()\n",
        "a = np.full((3,3), 30)\n",
        "a\n",
        "#a.dtype"
      ],
      "metadata": {
        "colab": {
          "base_uri": "https://localhost:8080/"
        },
        "id": "XB0r6kfr6Ieo",
        "outputId": "398ed257-c67e-49e1-bbbf-f0eacb2f1d10"
      },
      "execution_count": null,
      "outputs": [
        {
          "output_type": "execute_result",
          "data": {
            "text/plain": [
              "dtype('int64')"
            ]
          },
          "metadata": {},
          "execution_count": 37
        }
      ]
    },
    {
      "cell_type": "code",
      "source": [
        "# creating an array with intial values with full()\n",
        "a = np.full((3,3), 30.0)\n",
        "a\n",
        "#a.dtype"
      ],
      "metadata": {
        "colab": {
          "base_uri": "https://localhost:8080/"
        },
        "id": "fuxM96e66MPP",
        "outputId": "592d8883-2346-4da5-ae12-367a00d7e620"
      },
      "execution_count": null,
      "outputs": [
        {
          "output_type": "execute_result",
          "data": {
            "text/plain": [
              "array([[30., 30., 30.],\n",
              "       [30., 30., 30.],\n",
              "       [30., 30., 30.]])"
            ]
          },
          "metadata": {},
          "execution_count": 40
        }
      ]
    },
    {
      "cell_type": "code",
      "source": [
        "# creating an array with intial values with full()\n",
        "np.full((3,3), 30, dtype = 'float32')"
      ],
      "metadata": {
        "colab": {
          "base_uri": "https://localhost:8080/"
        },
        "id": "DNG1dbs25guR",
        "outputId": "18bbdd5a-6663-43a3-d7fb-b497ddfe610a"
      },
      "execution_count": null,
      "outputs": [
        {
          "output_type": "execute_result",
          "data": {
            "text/plain": [
              "array([[30., 30., 30.],\n",
              "       [30., 30., 30.],\n",
              "       [30., 30., 30.]], dtype=float32)"
            ]
          },
          "metadata": {},
          "execution_count": 33
        }
      ]
    },
    {
      "cell_type": "code",
      "source": [
        "# Repeating an array in a row \n",
        "arr = np.array([1,2,3])\n",
        "a1 = np.repeat(arr, 3, axis =0)\n",
        "a1"
      ],
      "metadata": {
        "colab": {
          "base_uri": "https://localhost:8080/"
        },
        "id": "SGk6k7Qk60SY",
        "outputId": "3430deda-ea32-4e6c-d973-5387de62df60"
      },
      "execution_count": null,
      "outputs": [
        {
          "output_type": "execute_result",
          "data": {
            "text/plain": [
              "array([1, 1, 1, 2, 2, 2, 3, 3, 3])"
            ]
          },
          "metadata": {},
          "execution_count": 46
        }
      ]
    },
    {
      "cell_type": "code",
      "source": [
        "# Repeating an array row wise\n",
        "arr = np.array([[1,2,3]])\n",
        "a1 = np.repeat(arr, 4, axis =0)\n",
        "a1"
      ],
      "metadata": {
        "colab": {
          "base_uri": "https://localhost:8080/"
        },
        "id": "g_Dvrskf7aij",
        "outputId": "b9824f17-9aca-4827-fbe1-fc660dc3e0fb"
      },
      "execution_count": null,
      "outputs": [
        {
          "output_type": "execute_result",
          "data": {
            "text/plain": [
              "array([[1, 2, 3],\n",
              "       [1, 2, 3],\n",
              "       [1, 2, 3],\n",
              "       [1, 2, 3]])"
            ]
          },
          "metadata": {},
          "execution_count": 51
        }
      ]
    },
    {
      "cell_type": "code",
      "source": [
        "# create identity matrix\n",
        "a= np.identity(4)\n",
        "a"
      ],
      "metadata": {
        "colab": {
          "base_uri": "https://localhost:8080/"
        },
        "id": "lYpkLHgS73e3",
        "outputId": "f9484e4b-b014-482b-d73d-bf75dcf3b9d2"
      },
      "execution_count": null,
      "outputs": [
        {
          "output_type": "execute_result",
          "data": {
            "text/plain": [
              "array([[1., 0., 0., 0.],\n",
              "       [0., 1., 0., 0.],\n",
              "       [0., 0., 1., 0.],\n",
              "       [0., 0., 0., 1.]])"
            ]
          },
          "metadata": {},
          "execution_count": 53
        }
      ]
    },
    {
      "cell_type": "markdown",
      "source": [
        "# statistics"
      ],
      "metadata": {
        "id": "zYUUplu422Dl"
      }
    },
    {
      "cell_type": "code",
      "source": [
        "# statistics\n",
        "a = np.array([[20,10,3],[6,12,8],[12,23,14]])\n",
        "a\n",
        "#a.min()\n",
        "#a.max()"
      ],
      "metadata": {
        "colab": {
          "base_uri": "https://localhost:8080/"
        },
        "id": "v9WZ4AOP2V0s",
        "outputId": "1ec6cc44-1fb7-4957-b05a-0734e1e076da"
      },
      "execution_count": null,
      "outputs": [
        {
          "output_type": "execute_result",
          "data": {
            "text/plain": [
              "array([[20, 10,  3],\n",
              "       [ 6, 12,  8],\n",
              "       [12, 23, 14]])"
            ]
          },
          "metadata": {},
          "execution_count": 9
        }
      ]
    },
    {
      "cell_type": "code",
      "source": [
        "a.max(axis = 0)  # column (row selection)"
      ],
      "metadata": {
        "colab": {
          "base_uri": "https://localhost:8080/"
        },
        "id": "vdPiy_-K0efR",
        "outputId": "ba8815f3-33e6-4676-ada6-64427ec27eaa"
      },
      "execution_count": null,
      "outputs": [
        {
          "output_type": "execute_result",
          "data": {
            "text/plain": [
              "array([20, 23, 14])"
            ]
          },
          "metadata": {},
          "execution_count": 10
        }
      ]
    },
    {
      "cell_type": "code",
      "source": [
        "a.max(axis = 1)"
      ],
      "metadata": {
        "colab": {
          "base_uri": "https://localhost:8080/"
        },
        "id": "eQNfLaYd3JRr",
        "outputId": "9f53b42c-bbd8-4cdb-da70-55825b239849"
      },
      "execution_count": null,
      "outputs": [
        {
          "output_type": "execute_result",
          "data": {
            "text/plain": [
              "array([20, 12, 23])"
            ]
          },
          "metadata": {},
          "execution_count": 160
        }
      ]
    },
    {
      "cell_type": "markdown",
      "source": [
        "# Reshaping of an array with reshape()"
      ],
      "metadata": {
        "id": "90MHq3Pp8m58"
      }
    },
    {
      "cell_type": "code",
      "source": [
        "# reating array\n",
        "a = np.array([[20,10,3],[6,12,8]])\n",
        "a.shape"
      ],
      "metadata": {
        "colab": {
          "base_uri": "https://localhost:8080/"
        },
        "id": "OQPHeuFy8lxH",
        "outputId": "ecae8554-f83d-465a-dcde-7ebe150d85a3"
      },
      "execution_count": null,
      "outputs": [
        {
          "output_type": "execute_result",
          "data": {
            "text/plain": [
              "(2, 3)"
            ]
          },
          "metadata": {},
          "execution_count": 55
        }
      ]
    },
    {
      "cell_type": "code",
      "source": [
        "a.reshape(3,2)  # it will not change the original array\n",
        "#a"
      ],
      "metadata": {
        "colab": {
          "base_uri": "https://localhost:8080/"
        },
        "id": "S0e-9MaB9Gjp",
        "outputId": "025f35fa-dd11-405c-9bda-b46e75c70b6b"
      },
      "execution_count": null,
      "outputs": [
        {
          "output_type": "execute_result",
          "data": {
            "text/plain": [
              "array([[20, 10,  3],\n",
              "       [ 6, 12,  8]])"
            ]
          },
          "metadata": {},
          "execution_count": 57
        }
      ]
    },
    {
      "cell_type": "code",
      "source": [
        "# it will change original array\n",
        "a= a.reshape(3,2)\n",
        "a"
      ],
      "metadata": {
        "id": "LCr1SYI19VFX"
      },
      "execution_count": null,
      "outputs": []
    },
    {
      "cell_type": "markdown",
      "source": [
        "# matrix operations on array"
      ],
      "metadata": {
        "id": "akqGauMp9rPg"
      }
    },
    {
      "cell_type": "code",
      "source": [
        "# mathematical operations on array\n",
        "a = np.array([[3,3],[3,3]])\n",
        "b = np.array([[2,2],[2,2]])\n",
        "print(a)\n",
        "print(b)\n",
        "c=a+b\n",
        "c=a-b\n",
        "c=a*b\n",
        "c=a/b\n",
        "c"
      ],
      "metadata": {
        "id": "WhS26lfu872f"
      },
      "execution_count": null,
      "outputs": []
    },
    {
      "cell_type": "code",
      "source": [
        "# matrix multiplication\n",
        "x = np.matmul(a,b)\n",
        "x"
      ],
      "metadata": {
        "id": "wuODjTMmDpoe"
      },
      "execution_count": null,
      "outputs": []
    },
    {
      "cell_type": "code",
      "source": [
        "a = np.array([[3,3],[3,3]])\n",
        "b = np.array([[2,2],[2,2],[1,1]]) \n",
        "print(a)\n",
        "print(b)\n",
        "x = np.matmul(a,b) # generate error if matrix size is not as per rule"
      ],
      "metadata": {
        "id": "lbq2w7Y7ELkN"
      },
      "execution_count": null,
      "outputs": []
    },
    {
      "cell_type": "code",
      "source": [
        "# find the determinant\n",
        "a = np.array([[3,3],[3,3]])\n",
        "a\n",
        "np.linalg.det(a)"
      ],
      "metadata": {
        "colab": {
          "base_uri": "https://localhost:8080/"
        },
        "id": "lY4285JeFBOG",
        "outputId": "e413f1bf-62a8-455d-e2d4-f82c8a65d3cc"
      },
      "execution_count": null,
      "outputs": [
        {
          "output_type": "execute_result",
          "data": {
            "text/plain": [
              "0.0"
            ]
          },
          "metadata": {},
          "execution_count": 75
        }
      ]
    },
    {
      "cell_type": "code",
      "source": [
        "# getting row wise and column wise sum \n",
        "a = np.array([[20,10,3],[6,12,8]])\n",
        "a"
      ],
      "metadata": {
        "colab": {
          "base_uri": "https://localhost:8080/"
        },
        "id": "ZPqtDjSmFvcH",
        "outputId": "6e3ec8c0-622f-4088-cc85-cf10db58581f"
      },
      "execution_count": null,
      "outputs": [
        {
          "output_type": "execute_result",
          "data": {
            "text/plain": [
              "array([[20, 10,  3],\n",
              "       [ 6, 12,  8]])"
            ]
          },
          "metadata": {},
          "execution_count": 76
        }
      ]
    },
    {
      "cell_type": "code",
      "source": [
        "np.sum(a, axis = 0) # sum of values of "
      ],
      "metadata": {
        "colab": {
          "base_uri": "https://localhost:8080/"
        },
        "id": "m6CRoGF6GGQW",
        "outputId": "8c74c9c5-041d-4df1-c06b-241d8a6b6692"
      },
      "execution_count": null,
      "outputs": [
        {
          "output_type": "execute_result",
          "data": {
            "text/plain": [
              "array([26, 22, 11])"
            ]
          },
          "metadata": {},
          "execution_count": 77
        }
      ]
    },
    {
      "cell_type": "code",
      "source": [
        "np.sum(a,axis = 1)"
      ],
      "metadata": {
        "colab": {
          "base_uri": "https://localhost:8080/"
        },
        "id": "cge-OCPXGQV-",
        "outputId": "d1ea0bd9-e66a-43a3-98ea-b735908284e1"
      },
      "execution_count": null,
      "outputs": [
        {
          "output_type": "execute_result",
          "data": {
            "text/plain": [
              "array([33, 26])"
            ]
          },
          "metadata": {},
          "execution_count": 78
        }
      ]
    },
    {
      "cell_type": "code",
      "source": [
        "np.max(a,axis = 0)"
      ],
      "metadata": {
        "colab": {
          "base_uri": "https://localhost:8080/"
        },
        "id": "xjf4_hLDGyid",
        "outputId": "c410af20-189d-4c36-aaf6-6ae81d0599ea"
      },
      "execution_count": null,
      "outputs": [
        {
          "output_type": "execute_result",
          "data": {
            "text/plain": [
              "array([20, 12,  8])"
            ]
          },
          "metadata": {},
          "execution_count": 79
        }
      ]
    },
    {
      "cell_type": "code",
      "source": [
        "np.max(a,axis = 1)"
      ],
      "metadata": {
        "id": "VVdpaUhWG79f"
      },
      "execution_count": null,
      "outputs": []
    },
    {
      "cell_type": "markdown",
      "source": [
        "# stacking vectors - Creating multidimensional array from 1 - D"
      ],
      "metadata": {
        "id": "vkfoY0BfHUpL"
      }
    },
    {
      "cell_type": "code",
      "source": [
        "# vertically stacking vectors\n",
        "a = np.array([3,3,3])\n",
        "print(a)\n",
        "np.vstack([a,a,a])"
      ],
      "metadata": {
        "colab": {
          "base_uri": "https://localhost:8080/"
        },
        "id": "zTxHTgYEHaTm",
        "outputId": "edb2698c-4121-44cf-9a19-f09cc14ed623"
      },
      "execution_count": null,
      "outputs": [
        {
          "output_type": "stream",
          "name": "stdout",
          "text": [
            "[3 3 3]\n"
          ]
        },
        {
          "output_type": "execute_result",
          "data": {
            "text/plain": [
              "array([[3, 3, 3],\n",
              "       [3, 3, 3],\n",
              "       [3, 3, 3]])"
            ]
          },
          "metadata": {},
          "execution_count": 90
        }
      ]
    },
    {
      "cell_type": "code",
      "source": [
        "# vertically stacking vectors\n",
        "a = np.array([3,3,3])\n",
        "b = np.array([4,5,5])\n",
        "x = np.vstack([a,b])\n",
        "x.shape"
      ],
      "metadata": {
        "colab": {
          "base_uri": "https://localhost:8080/"
        },
        "id": "dVeLj6Z2ILY7",
        "outputId": "54233828-1a98-413e-adac-d81aeec36067"
      },
      "execution_count": null,
      "outputs": [
        {
          "output_type": "execute_result",
          "data": {
            "text/plain": [
              "(2, 3)"
            ]
          },
          "metadata": {},
          "execution_count": 93
        }
      ]
    },
    {
      "cell_type": "code",
      "source": [
        "# horizonatal stacking vectors"
      ],
      "metadata": {
        "id": "W2aBq2DmJHCx"
      },
      "execution_count": null,
      "outputs": []
    },
    {
      "cell_type": "code",
      "source": [
        "a = np.array([3,3,3])\n",
        "b = np.array([4,5,5])\n",
        "x = np.hstack([a,b])\n",
        "x"
      ],
      "metadata": {
        "colab": {
          "base_uri": "https://localhost:8080/"
        },
        "id": "-IO9qKXKI0ze",
        "outputId": "3a0b7145-fb86-49a3-b77b-ff580ac58271"
      },
      "execution_count": null,
      "outputs": [
        {
          "output_type": "execute_result",
          "data": {
            "text/plain": [
              "array([3, 3, 3, 4, 5, 5])"
            ]
          },
          "metadata": {},
          "execution_count": 96
        }
      ]
    },
    {
      "cell_type": "code",
      "source": [
        "# handling not a number by numpy\n",
        "np.isnan(np.nan)\n",
        "#np.isnan(10)\n",
        "#a = np.isnan([np.log(-1.),1.,np.log(0)])\n",
        "#a"
      ],
      "metadata": {
        "id": "wvDlnVcN3u7y",
        "colab": {
          "base_uri": "https://localhost:8080/"
        },
        "outputId": "21097657-eb20-4ca2-d309-4f48cefa3a26"
      },
      "execution_count": null,
      "outputs": [
        {
          "output_type": "execute_result",
          "data": {
            "text/plain": [
              "True"
            ]
          },
          "metadata": {},
          "execution_count": 15
        }
      ]
    },
    {
      "cell_type": "code",
      "source": [],
      "metadata": {
        "id": "NmNbQcoT9ohv"
      },
      "execution_count": null,
      "outputs": []
    }
  ]
}