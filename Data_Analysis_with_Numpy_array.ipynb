{
  "nbformat": 4,
  "nbformat_minor": 0,
  "metadata": {
    "colab": {
      "provenance": []
    },
    "kernelspec": {
      "name": "python3",
      "display_name": "Python 3"
    },
    "language_info": {
      "name": "python"
    }
  },
  "cells": [
    {
      "cell_type": "code",
      "execution_count": null,
      "metadata": {
        "colab": {
          "base_uri": "https://localhost:8080/"
        },
        "id": "tWl3tshHa_sw",
        "outputId": "c003e694-2bac-4a1d-8a17-a57887792761"
      },
      "outputs": [
        {
          "output_type": "execute_result",
          "data": {
            "text/plain": [
              "(569, 5)"
            ]
          },
          "metadata": {},
          "execution_count": 8
        }
      ],
      "source": [
        "import numpy as np\n",
        "#filein = \"Tumor_data\"\n",
        "data = np.loadtxt(open(\"Tumor_data.csv\", \"rb\"), delimiter=\",\", skiprows= 1) # \"loadtxt\" function returns n D array from the file data. \n",
        "#data = np.loadtxt(open(\"Tumor_data.csv\", \"rb\"), delimiter=\",\", dtype = np.str, skiprows=1)\n",
        "data.shape"
      ]
    },
    {
      "cell_type": "markdown",
      "source": [
        "# Reading data from the colab default folder with loadtxt() function"
      ],
      "metadata": {
        "id": "3P8pqrw6EMGI"
      }
    },
    {
      "cell_type": "code",
      "source": [
        "import numpy as np\n",
        "data = np.loadtxt(\"Tumor_data.csv\", delimiter=\",\", skiprows=1) # \"skiprows = 1\" removes the first row, if skiprows is more than 1 then it removes number of rows, startiing from the first till specified value. \"skiprows = 0\" will include all the rows.\n",
        "print(data)\n"
      ],
      "metadata": {
        "colab": {
          "base_uri": "https://localhost:8080/"
        },
        "id": "kXkviwEXEjGK",
        "outputId": "618004fe-51c9-495e-fec7-4036deaf962f"
      },
      "execution_count": null,
      "outputs": [
        {
          "output_type": "stream",
          "name": "stdout",
          "text": [
            "[[1.799e+01 1.038e+01 1.228e+02 1.001e+03 1.184e-01]\n",
            " [2.057e+01 1.777e+01 1.329e+02 1.326e+03 8.474e-02]\n",
            " [1.969e+01 2.125e+01 1.300e+02 1.203e+03 1.096e-01]\n",
            " ...\n",
            " [1.660e+01 2.808e+01 1.083e+02 8.581e+02 8.455e-02]\n",
            " [2.060e+01 2.933e+01 1.401e+02 1.265e+03 1.178e-01]\n",
            " [7.760e+00 2.454e+01 4.792e+01 1.810e+02 5.263e-02]]\n"
          ]
        }
      ]
    },
    {
      "cell_type": "code",
      "source": [
        "import numpy as np\n",
        "data = np.loadtxt(\"Student_Data.tsv\", delimiter=\"\\t\", skiprows=1, usecols = (1,2,3)) # \"usecols = (1,2,3)\" selects specified columns from the table \n",
        "print(data)\n",
        "print(type(data))\n",
        "data.dtype      # default type is float\n"
      ],
      "metadata": {
        "colab": {
          "base_uri": "https://localhost:8080/"
        },
        "id": "mqllIlysZ4Wy",
        "outputId": "485c47fa-21f5-4147-c939-c66cd6e6402b"
      },
      "execution_count": null,
      "outputs": [
        {
          "output_type": "stream",
          "name": "stdout",
          "text": [
            "[[12. 19. 14.]\n",
            " [14. 15. 18.]\n",
            " [11. 14. 16.]\n",
            " [17. 13. 19.]\n",
            " [19. 12. 15.]\n",
            " [15. 11. 17.]\n",
            " [17. 14. 16.]\n",
            " [10. 11. 13.]]\n",
            "<class 'numpy.ndarray'>\n"
          ]
        },
        {
          "output_type": "execute_result",
          "data": {
            "text/plain": [
              "dtype('float64')"
            ]
          },
          "metadata": {},
          "execution_count": 22
        }
      ]
    },
    {
      "cell_type": "code",
      "source": [
        "# changing the type of data as per our requirement\n",
        "import numpy as np\n",
        "data1 = np.loadtxt(\"Student_Data.tsv\", delimiter=\"\\t\",  usecols = (1,2,3), dtype = int , skiprows=2,)  # we can specify the width of data type with \"int8, int16 an so on\",\n",
        "print(data1)\n",
        "data1.dtype"
      ],
      "metadata": {
        "colab": {
          "base_uri": "https://localhost:8080/"
        },
        "id": "uIqnBA_Df4vh",
        "outputId": "164c22b0-7816-475f-9c40-368ef695ecb7"
      },
      "execution_count": null,
      "outputs": [
        {
          "output_type": "stream",
          "name": "stdout",
          "text": [
            "[[14 15 18]\n",
            " [11 14 16]\n",
            " [17 13 19]\n",
            " [19 12 15]\n",
            " [15 11 17]\n",
            " [17 14 16]\n",
            " [10 11 13]]\n"
          ]
        },
        {
          "output_type": "execute_result",
          "data": {
            "text/plain": [
              "dtype('int64')"
            ]
          },
          "metadata": {},
          "execution_count": 43
        }
      ]
    },
    {
      "cell_type": "code",
      "source": [
        "data.shape"
      ],
      "metadata": {
        "colab": {
          "base_uri": "https://localhost:8080/"
        },
        "id": "-xKpn9_Rb88a",
        "outputId": "8c294a73-abf0-4fba-9d9c-3e3de84e0812"
      },
      "execution_count": null,
      "outputs": [
        {
          "output_type": "execute_result",
          "data": {
            "text/plain": [
              "(8, 3)"
            ]
          },
          "metadata": {},
          "execution_count": 17
        }
      ]
    },
    {
      "cell_type": "code",
      "source": [
        "print(type(data))"
      ],
      "metadata": {
        "id": "emIhZ-JXcGMR"
      },
      "execution_count": null,
      "outputs": []
    },
    {
      "cell_type": "code",
      "source": [
        "data.shape"
      ],
      "metadata": {
        "colab": {
          "base_uri": "https://localhost:8080/"
        },
        "id": "3WL515pIamHM",
        "outputId": "bdc9dce2-2e1b-4b5a-9394-4bc0501ef561"
      },
      "execution_count": null,
      "outputs": [
        {
          "output_type": "execute_result",
          "data": {
            "text/plain": [
              "(569, 5)"
            ]
          },
          "metadata": {},
          "execution_count": 10
        }
      ]
    },
    {
      "cell_type": "code",
      "source": [
        "data2 = np.loadtxt(\"Student_Data.tsv\", delimiter=\"\\t\", dtype = np.str, skiprows=0)  # we can specify datatype as string to consider entire dataset\n",
        "print(data2)"
      ],
      "metadata": {
        "colab": {
          "base_uri": "https://localhost:8080/"
        },
        "id": "rV_rFAZbvzC7",
        "outputId": "f1c34043-9e08-4456-bffb-20c763eb2feb"
      },
      "execution_count": null,
      "outputs": [
        {
          "output_type": "stream",
          "name": "stdout",
          "text": [
            "[['Rollno' 'DAP' 'PS' 'WT']\n",
            " ['A1' '12' '19' '14']\n",
            " ['A2' '14' '15' '18']\n",
            " ['A3' '11' '14' '16']\n",
            " ['A4' '17' '13' '19']\n",
            " ['A5' '19' '12' '15']\n",
            " ['A6' '15' '11' '17']\n",
            " ['A7' '17' '14' '16']\n",
            " ['A8' '10' '11' '13']]\n"
          ]
        },
        {
          "output_type": "stream",
          "name": "stderr",
          "text": [
            "<ipython-input-60-76921bdb0af8>:1: DeprecationWarning: `np.str` is a deprecated alias for the builtin `str`. To silence this warning, use `str` by itself. Doing this will not modify any behavior and is safe. If you specifically wanted the numpy scalar type, use `np.str_` here.\n",
            "Deprecated in NumPy 1.20; for more details and guidance: https://numpy.org/devdocs/release/1.20.0-notes.html#deprecations\n",
            "  data2 = np.loadtxt(\"Student_Data.tsv\", delimiter=\"\\t\", dtype = np.str, skiprows=0)  # we can specify datatype as string to consider entire dataset\n"
          ]
        }
      ]
    },
    {
      "cell_type": "code",
      "source": [
        "print(data2[:,1:])"
      ],
      "metadata": {
        "colab": {
          "base_uri": "https://localhost:8080/"
        },
        "id": "gCgZTyXk83sh",
        "outputId": "4b16301f-c74b-4e04-a731-fd462bc4a4bf"
      },
      "execution_count": null,
      "outputs": [
        {
          "output_type": "stream",
          "name": "stdout",
          "text": [
            "[['DAP' 'PS' 'WT']\n",
            " ['12' '19' '14']\n",
            " ['14' '15' '18']\n",
            " ['11' '14' '16']\n",
            " ['17' '13' '19']\n",
            " ['19' '12' '15']\n",
            " ['15' '11' '17']\n",
            " ['17' '14' '16']\n",
            " ['10' '11' '13']]\n"
          ]
        }
      ]
    },
    {
      "cell_type": "code",
      "source": [
        "print(data2[:,2:])"
      ],
      "metadata": {
        "id": "dEJiMRxr9YF4"
      },
      "execution_count": null,
      "outputs": []
    },
    {
      "cell_type": "code",
      "source": [
        "print(data2[1:,1:])"
      ],
      "metadata": {
        "id": "KCk85qfF9jvw"
      },
      "execution_count": null,
      "outputs": []
    },
    {
      "cell_type": "code",
      "source": [
        "data3 = np.loadtxt(\"Student_Data.tsv\", delimiter=\"\\t\", dtype = np.str_,  usecols = (0))  # we can specify datatype as string to consider entire dataset\n",
        "print(data3)"
      ],
      "metadata": {
        "colab": {
          "base_uri": "https://localhost:8080/"
        },
        "id": "OFayqXwY602h",
        "outputId": "a4d8f0f9-8c32-4c67-ba37-845ab854b6ea"
      },
      "execution_count": null,
      "outputs": [
        {
          "output_type": "stream",
          "name": "stdout",
          "text": [
            "['Rollno' 'A1' 'A2' 'A3' 'A4' 'A5' 'A6' 'A7' 'A8']\n"
          ]
        }
      ]
    },
    {
      "cell_type": "code",
      "source": [
        "data4 = np.loadtxt(\"Tumor_data.csv\", delimiter=\",\", skiprows= 1)\n",
        "print(data4)"
      ],
      "metadata": {
        "id": "XP589wux7ipx"
      },
      "execution_count": null,
      "outputs": []
    },
    {
      "cell_type": "code",
      "source": [
        "data4.shape\n",
        "data4.dtype"
      ],
      "metadata": {
        "colab": {
          "base_uri": "https://localhost:8080/"
        },
        "id": "IiDlYl4_7_89",
        "outputId": "13934bb4-36df-4881-e3d7-91abdfee6ceb"
      },
      "execution_count": null,
      "outputs": [
        {
          "output_type": "execute_result",
          "data": {
            "text/plain": [
              "dtype('float64')"
            ]
          },
          "metadata": {},
          "execution_count": 58
        }
      ]
    },
    {
      "cell_type": "markdown",
      "source": [
        "# Generate from text file function - genfromtxt() , basically used when there are some missing values presesnt in data set."
      ],
      "metadata": {
        "id": "RasAQ2nc9w2_"
      }
    },
    {
      "cell_type": "code",
      "source": [
        "import numpy as np\n",
        "data = np.genfromtxt(\"Student_Data.csv\")\n",
        "data"
      ],
      "metadata": {
        "id": "xRqbM9j795mo",
        "colab": {
          "base_uri": "https://localhost:8080/"
        },
        "outputId": "2f98a00a-1ed5-4f21-ddf6-7237a6b7dc80"
      },
      "execution_count": null,
      "outputs": [
        {
          "output_type": "execute_result",
          "data": {
            "text/plain": [
              "array([nan, nan, nan, nan, nan, nan, nan, nan])"
            ]
          },
          "metadata": {},
          "execution_count": 14
        }
      ]
    },
    {
      "cell_type": "code",
      "source": [
        "import numpy as np\n",
        "data = np.genfromtxt(\"Student_Data.csv\", invalid_raise=False)\n",
        "data"
      ],
      "metadata": {
        "colab": {
          "base_uri": "https://localhost:8080/"
        },
        "id": "3nTmvT_JERHy",
        "outputId": "cbe6b3e8-5e38-4f69-9ad9-3350aa864dfe"
      },
      "execution_count": null,
      "outputs": [
        {
          "output_type": "execute_result",
          "data": {
            "text/plain": [
              "array([nan, nan, nan, nan, nan, nan, nan, nan])"
            ]
          },
          "metadata": {},
          "execution_count": 16
        }
      ]
    },
    {
      "cell_type": "code",
      "source": [
        "import numpy as np\n",
        "data = np.genfromtxt(\"Student_Data.csv\", delimiter = \",\")\n",
        "data"
      ],
      "metadata": {
        "id": "Kpmlgfh2Egui",
        "colab": {
          "base_uri": "https://localhost:8080/"
        },
        "outputId": "a93faf69-0cd3-4d9d-9114-153082862c7a"
      },
      "execution_count": null,
      "outputs": [
        {
          "output_type": "execute_result",
          "data": {
            "text/plain": [
              "array([[nan, nan, nan, nan],\n",
              "       [nan, 12., 19., 14.],\n",
              "       [nan, 14., 15., 18.],\n",
              "       [nan, 11., 14., 16.],\n",
              "       [nan, 17., 13., 19.],\n",
              "       [nan, nan, 20., 12.],\n",
              "       [nan, 12., nan, nan],\n",
              "       [nan, 15., 13., nan]])"
            ]
          },
          "metadata": {},
          "execution_count": 17
        }
      ]
    },
    {
      "cell_type": "code",
      "source": [
        "import numpy as np\n",
        "data = np.genfromtxt(\"Student_Data.csv\", delimiter = \",\", filling_values= 0)\n",
        "data"
      ],
      "metadata": {
        "colab": {
          "base_uri": "https://localhost:8080/"
        },
        "id": "Qwcn3BG1GM7z",
        "outputId": "c8f0eeec-54e9-4ab3-cadb-c39178f303b3"
      },
      "execution_count": null,
      "outputs": [
        {
          "output_type": "execute_result",
          "data": {
            "text/plain": [
              "array([[ 0.,  0.,  0.,  0.],\n",
              "       [ 0., 12., 19., 14.],\n",
              "       [ 0., 14., 15., 18.],\n",
              "       [ 0., 11., 14., 16.],\n",
              "       [ 0., 17., 13., 19.],\n",
              "       [ 0.,  0., 20., 12.],\n",
              "       [ 0., 12.,  0.,  0.],\n",
              "       [ 0., 15., 13.,  0.]])"
            ]
          },
          "metadata": {},
          "execution_count": 18
        }
      ]
    }
  ]
}