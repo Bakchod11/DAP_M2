{
  "nbformat": 4,
  "nbformat_minor": 0,
  "metadata": {
    "colab": {
      "provenance": []
    },
    "kernelspec": {
      "name": "python3",
      "display_name": "Python 3"
    },
    "language_info": {
      "name": "python"
    }
  },
  "cells": [
    {
      "cell_type": "code",
      "execution_count": null,
      "metadata": {
        "colab": {
          "base_uri": "https://localhost:8080/"
        },
        "id": "A-THVwLEGZI_",
        "outputId": "6c6f6b7e-d288-4a79-bd92-e65427fa7a03"
      },
      "outputs": [
        {
          "output_type": "stream",
          "name": "stdout",
          "text": [
            "PNG\n",
            "(331, 309)\n",
            "<PIL.PngImagePlugin.PngImageFile image mode=P size=331x309 at 0x7F786F408880>\n"
          ]
        }
      ],
      "source": [
        "from PIL import Image\n",
        "image = Image.open('Image.png')\n",
        " \n",
        "# summarize some details about the image\n",
        "print(image.format)\n",
        "print(image.size)\n",
        "print(image)"
      ]
    },
    {
      "cell_type": "code",
      "source": [
        "from numpy import asarray\n",
        "# asarray() class is used to convert\n",
        "\n",
        "img_data = asarray(image)\n",
        " \n",
        "# <class 'numpy.ndarray'>\n",
        "print(type(img_data))\n",
        " \n",
        "#  shape\n",
        "print(img_data.shape)\n",
        "print(img_data)"
      ],
      "metadata": {
        "colab": {
          "base_uri": "https://localhost:8080/"
        },
        "id": "oX-D0Bi_Ibeq",
        "outputId": "18bfb6c3-012b-46e1-dd04-45ff3286a9ff"
      },
      "execution_count": null,
      "outputs": [
        {
          "output_type": "stream",
          "name": "stdout",
          "text": [
            "<class 'numpy.ndarray'>\n",
            "(309, 331)\n",
            "[[ 62  62  46 ...  17  17  17]\n",
            " [ 59  62  62 ...  17  17  17]\n",
            " [ 59  59  59 ...  17  17  17]\n",
            " ...\n",
            " [204 204 204 ... 197 197 197]\n",
            " [204 197 204 ... 204 204 204]\n",
            " [204 204 197 ... 197 204 204]]\n"
          ]
        }
      ]
    }
  ]
}