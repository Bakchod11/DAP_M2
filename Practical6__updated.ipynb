{
  "nbformat": 4,
  "nbformat_minor": 0,
  "metadata": {
    "colab": {
      "provenance": []
    },
    "kernelspec": {
      "name": "python3",
      "display_name": "Python 3"
    },
    "language_info": {
      "name": "python"
    }
  },
  "cells": [
    {
      "cell_type": "code",
      "execution_count": null,
      "metadata": {
        "colab": {
          "base_uri": "https://localhost:8080/",
          "height": 72
        },
        "id": "epOz4xjYv5OC",
        "outputId": "20aecaef-0d22-46a2-d164-9ac95326ce2f"
      },
      "outputs": [
        {
          "output_type": "display_data",
          "data": {
            "text/plain": [
              "<IPython.core.display.HTML object>"
            ],
            "text/html": [
              "\n",
              "     <input type=\"file\" id=\"files-8e5b6ab0-f01c-459d-b48e-83be7e63fec4\" name=\"files[]\" multiple disabled\n",
              "        style=\"border:none\" />\n",
              "     <output id=\"result-8e5b6ab0-f01c-459d-b48e-83be7e63fec4\">\n",
              "      Upload widget is only available when the cell has been executed in the\n",
              "      current browser session. Please rerun this cell to enable.\n",
              "      </output>\n",
              "      <script>// Copyright 2017 Google LLC\n",
              "//\n",
              "// Licensed under the Apache License, Version 2.0 (the \"License\");\n",
              "// you may not use this file except in compliance with the License.\n",
              "// You may obtain a copy of the License at\n",
              "//\n",
              "//      http://www.apache.org/licenses/LICENSE-2.0\n",
              "//\n",
              "// Unless required by applicable law or agreed to in writing, software\n",
              "// distributed under the License is distributed on an \"AS IS\" BASIS,\n",
              "// WITHOUT WARRANTIES OR CONDITIONS OF ANY KIND, either express or implied.\n",
              "// See the License for the specific language governing permissions and\n",
              "// limitations under the License.\n",
              "\n",
              "/**\n",
              " * @fileoverview Helpers for google.colab Python module.\n",
              " */\n",
              "(function(scope) {\n",
              "function span(text, styleAttributes = {}) {\n",
              "  const element = document.createElement('span');\n",
              "  element.textContent = text;\n",
              "  for (const key of Object.keys(styleAttributes)) {\n",
              "    element.style[key] = styleAttributes[key];\n",
              "  }\n",
              "  return element;\n",
              "}\n",
              "\n",
              "// Max number of bytes which will be uploaded at a time.\n",
              "const MAX_PAYLOAD_SIZE = 100 * 1024;\n",
              "\n",
              "function _uploadFiles(inputId, outputId) {\n",
              "  const steps = uploadFilesStep(inputId, outputId);\n",
              "  const outputElement = document.getElementById(outputId);\n",
              "  // Cache steps on the outputElement to make it available for the next call\n",
              "  // to uploadFilesContinue from Python.\n",
              "  outputElement.steps = steps;\n",
              "\n",
              "  return _uploadFilesContinue(outputId);\n",
              "}\n",
              "\n",
              "// This is roughly an async generator (not supported in the browser yet),\n",
              "// where there are multiple asynchronous steps and the Python side is going\n",
              "// to poll for completion of each step.\n",
              "// This uses a Promise to block the python side on completion of each step,\n",
              "// then passes the result of the previous step as the input to the next step.\n",
              "function _uploadFilesContinue(outputId) {\n",
              "  const outputElement = document.getElementById(outputId);\n",
              "  const steps = outputElement.steps;\n",
              "\n",
              "  const next = steps.next(outputElement.lastPromiseValue);\n",
              "  return Promise.resolve(next.value.promise).then((value) => {\n",
              "    // Cache the last promise value to make it available to the next\n",
              "    // step of the generator.\n",
              "    outputElement.lastPromiseValue = value;\n",
              "    return next.value.response;\n",
              "  });\n",
              "}\n",
              "\n",
              "/**\n",
              " * Generator function which is called between each async step of the upload\n",
              " * process.\n",
              " * @param {string} inputId Element ID of the input file picker element.\n",
              " * @param {string} outputId Element ID of the output display.\n",
              " * @return {!Iterable<!Object>} Iterable of next steps.\n",
              " */\n",
              "function* uploadFilesStep(inputId, outputId) {\n",
              "  const inputElement = document.getElementById(inputId);\n",
              "  inputElement.disabled = false;\n",
              "\n",
              "  const outputElement = document.getElementById(outputId);\n",
              "  outputElement.innerHTML = '';\n",
              "\n",
              "  const pickedPromise = new Promise((resolve) => {\n",
              "    inputElement.addEventListener('change', (e) => {\n",
              "      resolve(e.target.files);\n",
              "    });\n",
              "  });\n",
              "\n",
              "  const cancel = document.createElement('button');\n",
              "  inputElement.parentElement.appendChild(cancel);\n",
              "  cancel.textContent = 'Cancel upload';\n",
              "  const cancelPromise = new Promise((resolve) => {\n",
              "    cancel.onclick = () => {\n",
              "      resolve(null);\n",
              "    };\n",
              "  });\n",
              "\n",
              "  // Wait for the user to pick the files.\n",
              "  const files = yield {\n",
              "    promise: Promise.race([pickedPromise, cancelPromise]),\n",
              "    response: {\n",
              "      action: 'starting',\n",
              "    }\n",
              "  };\n",
              "\n",
              "  cancel.remove();\n",
              "\n",
              "  // Disable the input element since further picks are not allowed.\n",
              "  inputElement.disabled = true;\n",
              "\n",
              "  if (!files) {\n",
              "    return {\n",
              "      response: {\n",
              "        action: 'complete',\n",
              "      }\n",
              "    };\n",
              "  }\n",
              "\n",
              "  for (const file of files) {\n",
              "    const li = document.createElement('li');\n",
              "    li.append(span(file.name, {fontWeight: 'bold'}));\n",
              "    li.append(span(\n",
              "        `(${file.type || 'n/a'}) - ${file.size} bytes, ` +\n",
              "        `last modified: ${\n",
              "            file.lastModifiedDate ? file.lastModifiedDate.toLocaleDateString() :\n",
              "                                    'n/a'} - `));\n",
              "    const percent = span('0% done');\n",
              "    li.appendChild(percent);\n",
              "\n",
              "    outputElement.appendChild(li);\n",
              "\n",
              "    const fileDataPromise = new Promise((resolve) => {\n",
              "      const reader = new FileReader();\n",
              "      reader.onload = (e) => {\n",
              "        resolve(e.target.result);\n",
              "      };\n",
              "      reader.readAsArrayBuffer(file);\n",
              "    });\n",
              "    // Wait for the data to be ready.\n",
              "    let fileData = yield {\n",
              "      promise: fileDataPromise,\n",
              "      response: {\n",
              "        action: 'continue',\n",
              "      }\n",
              "    };\n",
              "\n",
              "    // Use a chunked sending to avoid message size limits. See b/62115660.\n",
              "    let position = 0;\n",
              "    do {\n",
              "      const length = Math.min(fileData.byteLength - position, MAX_PAYLOAD_SIZE);\n",
              "      const chunk = new Uint8Array(fileData, position, length);\n",
              "      position += length;\n",
              "\n",
              "      const base64 = btoa(String.fromCharCode.apply(null, chunk));\n",
              "      yield {\n",
              "        response: {\n",
              "          action: 'append',\n",
              "          file: file.name,\n",
              "          data: base64,\n",
              "        },\n",
              "      };\n",
              "\n",
              "      let percentDone = fileData.byteLength === 0 ?\n",
              "          100 :\n",
              "          Math.round((position / fileData.byteLength) * 100);\n",
              "      percent.textContent = `${percentDone}% done`;\n",
              "\n",
              "    } while (position < fileData.byteLength);\n",
              "  }\n",
              "\n",
              "  // All done.\n",
              "  yield {\n",
              "    response: {\n",
              "      action: 'complete',\n",
              "    }\n",
              "  };\n",
              "}\n",
              "\n",
              "scope.google = scope.google || {};\n",
              "scope.google.colab = scope.google.colab || {};\n",
              "scope.google.colab._files = {\n",
              "  _uploadFiles,\n",
              "  _uploadFilesContinue,\n",
              "};\n",
              "})(self);\n",
              "</script> "
            ]
          },
          "metadata": {}
        },
        {
          "output_type": "stream",
          "name": "stdout",
          "text": [
            "Saving Master_data_excel.xlsx to Master_data_excel.xlsx\n"
          ]
        }
      ],
      "source": [
        "from google.colab import files\n",
        "import pandas as panda\n",
        "uploaded = files.upload()"
      ]
    },
    {
      "cell_type": "code",
      "source": [
        "# EMP TEXT\n",
        "\n",
        "df = panda.read_excel('Emp_info.xlsx')\n",
        "print(df.columns)\n",
        "\n",
        "# 1st\n",
        "dfm = df.groupby('dept').agg({'performance score': ['max']})\n",
        "dfm\n",
        "\n",
        "# 2nd\n",
        "\n",
        "dfe = df.groupby('city').agg({'age': 'min'})\n",
        "dfe\n",
        "\n",
        "# 3rd\n",
        "\n",
        "mdf = panda.read_excel('Master_data_excel.xlsx')\n",
        "\n",
        "# 4th\n",
        "\n",
        "sad = mdf.groupby(['city', 'dept']).mean()\n",
        "#print(sad)\n",
        "\n",
        "# 5\n",
        "mdf.columns\n",
        "#print(mdf[mdf['sport'] == 'cricket'])\n",
        "young = mdf[mdf['sport'] == 'cricket'][['name','age','sport']].min()\n",
        "print(young)\n",
        "#print(mdf.loc[mdf['age'].min()])\n",
        "#6 \n",
        "print(mdf.loc[mdf['age'].max()])\n",
        "\n",
        "# 7th\n",
        "#print('kings', mdf.columns)\n",
        "\n",
        "avg_score = mdf.groupby('dept').mean()\n",
        "#avg_score\n",
        "#avg_score.iloc[0]"
      ],
      "metadata": {
        "colab": {
          "base_uri": "https://localhost:8080/"
        },
        "id": "nXD7JThnwlrG",
        "outputId": "25663283-1bd1-439d-8284-a2047c4bb8db"
      },
      "execution_count": null,
      "outputs": [
        {
          "output_type": "stream",
          "name": "stdout",
          "text": [
            "Index(['id', 'city', 'dept', 'age', 'salary', 'performance score'], dtype='object')\n",
            "name     ABHAY TIWARI\n",
            "age                22\n",
            "sport         cricket\n",
            "dtype: object\n",
            "id                      A055\n",
            "name           CHAYAN SHARMA\n",
            "city                    Pune\n",
            "dept              technology\n",
            "designation        developer\n",
            "age                       36\n",
            "sport             volleyball\n",
            "sport score               95\n",
            "Name: 49, dtype: object\n"
          ]
        }
      ]
    },
    {
      "cell_type": "code",
      "source": [
        "# TASK 2\n",
        "\n",
        "# MAXIMUM ABSOLUTE SCALING\n",
        "\n",
        "max_scaled  = mdf.copy()\n",
        "max_scaled\n",
        "\n",
        "\n",
        "\n",
        "print(max_scaled['age'])\n",
        "max_scaled['age'] = max_scaled['age'] /max_scaled['age'].abs().max()\n",
        "\n",
        "max_scaled['age']"
      ],
      "metadata": {
        "colab": {
          "base_uri": "https://localhost:8080/"
        },
        "id": "StrkAnPNqFjk",
        "outputId": "535f3d1c-52db-45f5-cc77-f2dd6e754ce7"
      },
      "execution_count": null,
      "outputs": [
        {
          "output_type": "stream",
          "name": "stdout",
          "text": [
            "0     23\n",
            "1     35\n",
            "2     22\n",
            "3     34\n",
            "4     31\n",
            "      ..\n",
            "85    36\n",
            "86    37\n",
            "87    49\n",
            "88    33\n",
            "89    24\n",
            "Name: age, Length: 90, dtype: int64\n"
          ]
        },
        {
          "output_type": "execute_result",
          "data": {
            "text/plain": [
              "0     0.469388\n",
              "1     0.714286\n",
              "2     0.448980\n",
              "3     0.693878\n",
              "4     0.632653\n",
              "        ...   \n",
              "85    0.734694\n",
              "86    0.755102\n",
              "87    1.000000\n",
              "88    0.673469\n",
              "89    0.489796\n",
              "Name: age, Length: 90, dtype: float64"
            ]
          },
          "metadata": {},
          "execution_count": 130
        }
      ]
    },
    {
      "cell_type": "code",
      "source": [
        "# MIN-MAX FEATURE SCALING\n",
        "\n",
        "# x - min(x) / max(x) - min(x)\n",
        "min_max = mdf.copy()\n",
        "print(min_max['age'])\n",
        "\n",
        "min_max['age'] = min_max['age'] - min_max['age'].min() / min_max['age'].max() - min_max['age'].min()\n",
        "\n",
        "print(min_max['age'])"
      ],
      "metadata": {
        "colab": {
          "base_uri": "https://localhost:8080/"
        },
        "id": "pkOqG_UQq5tj",
        "outputId": "112d7868-0d2a-4200-9780-7b33a72eb437"
      },
      "execution_count": null,
      "outputs": [
        {
          "output_type": "stream",
          "name": "stdout",
          "text": [
            "0     23\n",
            "1     35\n",
            "2     22\n",
            "3     34\n",
            "4     31\n",
            "      ..\n",
            "85    36\n",
            "86    37\n",
            "87    49\n",
            "88    33\n",
            "89    24\n",
            "Name: age, Length: 90, dtype: int64\n",
            "0      0.55102\n",
            "1     12.55102\n",
            "2     -0.44898\n",
            "3     11.55102\n",
            "4      8.55102\n",
            "        ...   \n",
            "85    13.55102\n",
            "86    14.55102\n",
            "87    26.55102\n",
            "88    10.55102\n",
            "89     1.55102\n",
            "Name: age, Length: 90, dtype: float64\n"
          ]
        }
      ]
    },
    {
      "cell_type": "code",
      "source": [
        "# Z-SCORE TEST\n",
        "\n",
        "#x-mean(x)/sd(x)\n",
        "\n",
        "\n",
        "zsc = mdf.copy()\n",
        "print(zsc['age'])\n",
        "\n",
        "zsc['age'] = (zsc['age'] - zsc['age'].mean() )/zsc['age'].std()\n",
        "\n",
        "zsc['age']"
      ],
      "metadata": {
        "colab": {
          "base_uri": "https://localhost:8080/"
        },
        "id": "Hy_Yx2C6rtyW",
        "outputId": "85cd2175-2cc5-4c93-951d-29fac51ab6db"
      },
      "execution_count": null,
      "outputs": [
        {
          "output_type": "stream",
          "name": "stdout",
          "text": [
            "0     23\n",
            "1     35\n",
            "2     22\n",
            "3     34\n",
            "4     31\n",
            "      ..\n",
            "85    36\n",
            "86    37\n",
            "87    49\n",
            "88    33\n",
            "89    24\n",
            "Name: age, Length: 90, dtype: int64\n"
          ]
        },
        {
          "output_type": "execute_result",
          "data": {
            "text/plain": [
              "0    -1.572372\n",
              "1     0.178310\n",
              "2    -1.718262\n",
              "3     0.032420\n",
              "4    -0.405251\n",
              "        ...   \n",
              "85    0.324200\n",
              "86    0.470091\n",
              "87    2.220773\n",
              "88   -0.113470\n",
              "89   -1.426482\n",
              "Name: age, Length: 90, dtype: float64"
            ]
          },
          "metadata": {},
          "execution_count": 135
        }
      ]
    }
  ]
}